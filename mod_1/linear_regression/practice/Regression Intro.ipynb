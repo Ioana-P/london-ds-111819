{
 "cells": [
  {
   "cell_type": "markdown",
   "metadata": {},
   "source": [
    "# Introduction to Linear Regression"
   ]
  },
  {
   "cell_type": "code",
   "execution_count": 1,
   "metadata": {},
   "outputs": [],
   "source": [
    "import numpy as np\n",
    "import pandas as pd\n",
    "import matplotlib.pyplot as plt"
   ]
  },
  {
   "cell_type": "code",
   "execution_count": 13,
   "metadata": {},
   "outputs": [],
   "source": [
    "# Generate Some Data\n",
    "\n",
    "# How Many Samples?\n",
    "n = 2000\n",
    "\n",
    "# Create an artificial INDEPENDANT Variable\n",
    "x = np.random.sample(n)*20\n",
    "\n",
    "# Add 50 to each sample \n",
    "a = np.random.sample(n)*20 + 50\n",
    "\n",
    "# Set Your Slope \n",
    "b = 3.5\n",
    "\n",
    "# Calculate your DEPENDANT Variable \n",
    "y = b*x + a\n",
    "\n",
    "# We don't add the random error to our dataset, in real life it is unknown\n",
    "# We also don't know b apriori. b is exactly what we want to find\n",
    "# And the 'expected value' of a\n",
    "\n",
    "# Cast Into A Dataframe\n",
    "df = pd.DataFrame({'feature1':x})"
   ]
  },
  {
   "cell_type": "code",
   "execution_count": 14,
   "metadata": {},
   "outputs": [
    {
     "name": "stdout",
     "output_type": "stream",
     "text": [
      "(2000, 2)\n"
     ]
    },
    {
     "data": {
      "text/html": [
       "<div>\n",
       "<style scoped>\n",
       "    .dataframe tbody tr th:only-of-type {\n",
       "        vertical-align: middle;\n",
       "    }\n",
       "\n",
       "    .dataframe tbody tr th {\n",
       "        vertical-align: top;\n",
       "    }\n",
       "\n",
       "    .dataframe thead th {\n",
       "        text-align: right;\n",
       "    }\n",
       "</style>\n",
       "<table border=\"1\" class=\"dataframe\">\n",
       "  <thead>\n",
       "    <tr style=\"text-align: right;\">\n",
       "      <th></th>\n",
       "      <th>feature1</th>\n",
       "      <th>target</th>\n",
       "    </tr>\n",
       "  </thead>\n",
       "  <tbody>\n",
       "    <tr>\n",
       "      <th>0</th>\n",
       "      <td>2.989847</td>\n",
       "      <td>72.662684</td>\n",
       "    </tr>\n",
       "    <tr>\n",
       "      <th>1</th>\n",
       "      <td>19.524784</td>\n",
       "      <td>125.764686</td>\n",
       "    </tr>\n",
       "    <tr>\n",
       "      <th>2</th>\n",
       "      <td>7.761893</td>\n",
       "      <td>81.871556</td>\n",
       "    </tr>\n",
       "    <tr>\n",
       "      <th>3</th>\n",
       "      <td>12.269767</td>\n",
       "      <td>98.240457</td>\n",
       "    </tr>\n",
       "    <tr>\n",
       "      <th>4</th>\n",
       "      <td>11.006557</td>\n",
       "      <td>90.970664</td>\n",
       "    </tr>\n",
       "  </tbody>\n",
       "</table>\n",
       "</div>"
      ],
      "text/plain": [
       "    feature1      target\n",
       "0   2.989847   72.662684\n",
       "1  19.524784  125.764686\n",
       "2   7.761893   81.871556\n",
       "3  12.269767   98.240457\n",
       "4  11.006557   90.970664"
      ]
     },
     "execution_count": 14,
     "metadata": {},
     "output_type": "execute_result"
    },
    {
     "data": {
      "image/png": "[encoded data removed]",
      "text/plain": [
       "<Figure size 432x288 with 1 Axes>"
      ]
     },
     "metadata": {
      "needs_background": "light"
     },
     "output_type": "display_data"
    }
   ],
   "source": [
    "# Having a look at the data\n",
    "\n",
    "# Assign Y to be our Target Variable \n",
    "df['target'] = y\n",
    "\n",
    "\n",
    "fig, ax = plt.subplots()\n",
    "\n",
    "ax.scatter(x,y)\n",
    "\n",
    "xmin = 0\n",
    "xmax = 20\n",
    "ymin = 0\n",
    "ymax = 200\n",
    "\n",
    "axes = plt.gca()\n",
    "axes.set_xlim([xmin,xmax])\n",
    "axes.set_ylim([ymin,ymax])\n",
    "\n",
    "plt.title(\"Some Very Fake Data\")\n",
    "plt.xlabel(\"Independant Variable\")\n",
    "plt.ylabel(\"Dependant Variable\")\n",
    "\n",
    "\n",
    "print(df.shape)\n",
    "df.head()"
   ]
  },
  {
   "cell_type": "code",
   "execution_count": 15,
   "metadata": {},
   "outputs": [],
   "source": [
    "# Pre-processing \n",
    "\n",
    "# Here We separarte our Variables \n",
    "\n",
    "X = df.drop('target',axis=1)\n",
    "y = df['target']"
   ]
  },
  {
   "cell_type": "markdown",
   "metadata": {},
   "source": [
    "### Regression in [SciKit Learn](https://scikit-learn.org/stable/modules/generated/sklearn.linear_model.LinearRegression.html)"
   ]
  },
  {
   "cell_type": "code",
   "execution_count": 16,
   "metadata": {
    "scrolled": true
   },
   "outputs": [
    {
     "name": "stdout",
     "output_type": "stream",
     "text": [
      "R2 = 0.93\n",
      "constant: 60.2578\n",
      "coeficients: real 3.5 vs [3.4507] estimated\n"
     ]
    }
   ],
   "source": [
    "from sklearn.linear_model import LinearRegression\n",
    "\n",
    "# Setting up the LEARNER\n",
    "model_skl = LinearRegression(fit_intercept=True)\n",
    "\n",
    "# Actually LEARNING\n",
    "model_skl.fit(X,y)\n",
    "\n",
    "# Evaluating performance\n",
    "r2 = model_skl.score(X,y)\n",
    "r2 = r2.round(2)\n",
    "print('R2 = {}'.format(r2))\n",
    "\n",
    "# Understanding the LEARNED model\n",
    "est_a = model_skl.intercept_\n",
    "est_b = model_skl.coef_\n",
    "print('constant: {}'.format(round(est_a,4)))\n",
    "print('coeficients: real {} vs {} estimated'.format(b,est_b.round(4)))"
   ]
  },
  {
   "cell_type": "markdown",
   "metadata": {},
   "source": [
    "### Regression in [Statsmodels](https://www.statsmodels.org/dev/generated/statsmodels.regression.linear_model.OLS.html) and its [Interpretation](https://www.statsmodels.org/dev/generated/statsmodels.regression.linear_model.RegressionResults.html#statsmodels.regression.linear_model.RegressionResults)"
   ]
  },
  {
   "cell_type": "code",
   "execution_count": 17,
   "metadata": {},
   "outputs": [
    {
     "name": "stdout",
     "output_type": "stream",
     "text": [
      "R2 = 0.93\n",
      "const       60.2578\n",
      "feature1     3.4507\n",
      "dtype: float64\n"
     ]
    },
    {
     "name": "stderr",
     "output_type": "stream",
     "text": [
      "//anaconda3/lib/python3.7/site-packages/numpy/core/fromnumeric.py:2389: FutureWarning: Method .ptp is deprecated and will be removed in a future version. Use numpy.ptp instead.\n",
      "  return ptp(axis=axis, out=out, **kwargs)\n"
     ]
    }
   ],
   "source": [
    "import statsmodels.api as sm\n",
    "\n",
    "# Setting up the LEARNER\n",
    "X = sm.add_constant(X)\n",
    "model_sm = sm.OLS(y,X)\n",
    "\n",
    "# Actually LEARNING\n",
    "results = model_sm.fit()\n",
    "\n",
    "# Evaluating performance\n",
    "r2 = results.rsquared\n",
    "r2 = r2.round(2)\n",
    "print('R2 = {}'.format(r2))\n",
    "\n",
    "# # Understanding the LEARNED model\n",
    "est_b = results.params\n",
    "print(est_b.round(4))"
   ]
  },
  {
   "cell_type": "markdown",
   "metadata": {},
   "source": [
    "### Statsmodels superpower"
   ]
  },
  {
   "cell_type": "code",
   "execution_count": 18,
   "metadata": {},
   "outputs": [
    {
     "data": {
      "text/html": [
       "<table class=\"simpletable\">\n",
       "<caption>OLS Regression Results</caption>\n",
       "<tr>\n",
       "  <th>Dep. Variable:</th>         <td>target</td>      <th>  R-squared:         </th> <td>   0.927</td> \n",
       "</tr>\n",
       "<tr>\n",
       "  <th>Model:</th>                   <td>OLS</td>       <th>  Adj. R-squared:    </th> <td>   0.927</td> \n",
       "</tr>\n",
       "<tr>\n",
       "  <th>Method:</th>             <td>Least Squares</td>  <th>  F-statistic:       </th> <td>2.525e+04</td>\n",
       "</tr>\n",
       "<tr>\n",
       "  <th>Date:</th>             <td>Tue, 26 Nov 2019</td> <th>  Prob (F-statistic):</th>  <td>  0.00</td>  \n",
       "</tr>\n",
       "<tr>\n",
       "  <th>Time:</th>                 <td>16:16:50</td>     <th>  Log-Likelihood:    </th> <td> -6308.6</td> \n",
       "</tr>\n",
       "<tr>\n",
       "  <th>No. Observations:</th>      <td>  2000</td>      <th>  AIC:               </th> <td>1.262e+04</td>\n",
       "</tr>\n",
       "<tr>\n",
       "  <th>Df Residuals:</th>          <td>  1998</td>      <th>  BIC:               </th> <td>1.263e+04</td>\n",
       "</tr>\n",
       "<tr>\n",
       "  <th>Df Model:</th>              <td>     1</td>      <th>                     </th>     <td> </td>    \n",
       "</tr>\n",
       "<tr>\n",
       "  <th>Covariance Type:</th>      <td>nonrobust</td>    <th>                     </th>     <td> </td>    \n",
       "</tr>\n",
       "</table>\n",
       "<table class=\"simpletable\">\n",
       "<tr>\n",
       "      <td></td>        <th>coef</th>     <th>std err</th>      <th>t</th>      <th>P>|t|</th>  <th>[0.025</th>    <th>0.975]</th>  \n",
       "</tr>\n",
       "<tr>\n",
       "  <th>const</th>    <td>   60.2578</td> <td>    0.247</td> <td>  244.044</td> <td> 0.000</td> <td>   59.774</td> <td>   60.742</td>\n",
       "</tr>\n",
       "<tr>\n",
       "  <th>feature1</th> <td>    3.4507</td> <td>    0.022</td> <td>  158.915</td> <td> 0.000</td> <td>    3.408</td> <td>    3.493</td>\n",
       "</tr>\n",
       "</table>\n",
       "<table class=\"simpletable\">\n",
       "<tr>\n",
       "  <th>Omnibus:</th>       <td>903.945</td> <th>  Durbin-Watson:     </th> <td>   2.090</td>\n",
       "</tr>\n",
       "<tr>\n",
       "  <th>Prob(Omnibus):</th> <td> 0.000</td>  <th>  Jarque-Bera (JB):  </th> <td> 107.087</td>\n",
       "</tr>\n",
       "<tr>\n",
       "  <th>Skew:</th>          <td> 0.080</td>  <th>  Prob(JB):          </th> <td>5.58e-24</td>\n",
       "</tr>\n",
       "<tr>\n",
       "  <th>Kurtosis:</th>      <td> 1.878</td>  <th>  Cond. No.          </th> <td>    22.3</td>\n",
       "</tr>\n",
       "</table><br/><br/>Warnings:<br/>[1] Standard Errors assume that the covariance matrix of the errors is correctly specified."
      ],
      "text/plain": [
       "<class 'statsmodels.iolib.summary.Summary'>\n",
       "\"\"\"\n",
       "                            OLS Regression Results                            \n",
       "==============================================================================\n",
       "Dep. Variable:                 target   R-squared:                       0.927\n",
       "Model:                            OLS   Adj. R-squared:                  0.927\n",
       "Method:                 Least Squares   F-statistic:                 2.525e+04\n",
       "Date:                Tue, 26 Nov 2019   Prob (F-statistic):               0.00\n",
       "Time:                        16:16:50   Log-Likelihood:                -6308.6\n",
       "No. Observations:                2000   AIC:                         1.262e+04\n",
       "Df Residuals:                    1998   BIC:                         1.263e+04\n",
       "Df Model:                           1                                         \n",
       "Covariance Type:            nonrobust                                         \n",
       "==============================================================================\n",
       "                 coef    std err          t      P>|t|      [0.025      0.975]\n",
       "------------------------------------------------------------------------------\n",
       "const         60.2578      0.247    244.044      0.000      59.774      60.742\n",
       "feature1       3.4507      0.022    158.915      0.000       3.408       3.493\n",
       "==============================================================================\n",
       "Omnibus:                      903.945   Durbin-Watson:                   2.090\n",
       "Prob(Omnibus):                  0.000   Jarque-Bera (JB):              107.087\n",
       "Skew:                           0.080   Prob(JB):                     5.58e-24\n",
       "Kurtosis:                       1.878   Cond. No.                         22.3\n",
       "==============================================================================\n",
       "\n",
       "Warnings:\n",
       "[1] Standard Errors assume that the covariance matrix of the errors is correctly specified.\n",
       "\"\"\""
      ]
     },
     "execution_count": 18,
     "metadata": {},
     "output_type": "execute_result"
    }
   ],
   "source": [
    "results.summary()"
   ]
  },
  {
   "cell_type": "markdown",
   "metadata": {},
   "source": [
    "# Your Turn!\n",
    "\n",
    "Use the next 15 minutes to recreate (literally copy and paste as much as you can!) to attempt to predict a sheep's weight from their fatness. \n",
    "\n",
    "Run this model with statsmodels and plot your data!"
   ]
  },
  {
   "cell_type": "code",
   "execution_count": null,
   "metadata": {},
   "outputs": [],
   "source": []
  },
  {
   "cell_type": "code",
   "execution_count": null,
   "metadata": {},
   "outputs": [],
   "source": []
  },
  {
   "cell_type": "code",
   "execution_count": null,
   "metadata": {},
   "outputs": [],
   "source": []
  },
  {
   "cell_type": "code",
   "execution_count": null,
   "metadata": {},
   "outputs": [],
   "source": []
  }
 ],
 "metadata": {
  "kernelspec": {
   "display_name": "Python 3",
   "language": "python",
   "name": "python3"
  },
  "language_info": {
   "codemirror_mode": {
    "name": "ipython",
    "version": 3
   },
   "file_extension": ".py",
   "mimetype": "text/x-python",
   "name": "python",
   "nbconvert_exporter": "python",
   "pygments_lexer": "ipython3",
   "version": "3.7.3"
  }
 },
 "nbformat": 4,
 "nbformat_minor": 2
}
