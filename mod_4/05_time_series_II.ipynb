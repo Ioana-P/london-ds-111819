{
 "cells": [
  {
   "cell_type": "markdown",
   "metadata": {},
   "source": [
    "# Data Preparation (necessary for application)"
   ]
  },
  {
   "cell_type": "code",
   "execution_count": 1,
   "metadata": {},
   "outputs": [],
   "source": [
    "import pandas as pd\n",
    "import numpy as np\n",
    "import matplotlib.pyplot as plt"
   ]
  },
  {
   "cell_type": "markdown",
   "metadata": {},
   "source": [
    "https://www.macrotrends.net/stocks/charts/BRK.A/berkshire-hathaway/stock-price-history"
   ]
  },
  {
   "cell_type": "code",
   "execution_count": 2,
   "metadata": {},
   "outputs": [
    {
     "name": "stdout",
     "output_type": "stream",
     "text": [
      "1980-03-17 object\n"
     ]
    },
    {
     "data": {
      "text/html": [
       "<div>\n",
       "<style scoped>\n",
       "    .dataframe tbody tr th:only-of-type {\n",
       "        vertical-align: middle;\n",
       "    }\n",
       "\n",
       "    .dataframe tbody tr th {\n",
       "        vertical-align: top;\n",
       "    }\n",
       "\n",
       "    .dataframe thead th {\n",
       "        text-align: right;\n",
       "    }\n",
       "</style>\n",
       "<table border=\"1\" class=\"dataframe\">\n",
       "  <thead>\n",
       "    <tr style=\"text-align: right;\">\n",
       "      <th></th>\n",
       "      <th>date</th>\n",
       "      <th>open</th>\n",
       "      <th>high</th>\n",
       "      <th>low</th>\n",
       "      <th>close</th>\n",
       "      <th>volume</th>\n",
       "    </tr>\n",
       "  </thead>\n",
       "  <tbody>\n",
       "    <tr>\n",
       "      <td>0</td>\n",
       "      <td>1980-03-17</td>\n",
       "      <td>290.0</td>\n",
       "      <td>310.0</td>\n",
       "      <td>290.0</td>\n",
       "      <td>290.0</td>\n",
       "      <td>10000</td>\n",
       "    </tr>\n",
       "    <tr>\n",
       "      <td>1</td>\n",
       "      <td>1980-03-18</td>\n",
       "      <td>290.0</td>\n",
       "      <td>290.0</td>\n",
       "      <td>290.0</td>\n",
       "      <td>290.0</td>\n",
       "      <td>0</td>\n",
       "    </tr>\n",
       "    <tr>\n",
       "      <td>2</td>\n",
       "      <td>1980-03-19</td>\n",
       "      <td>290.0</td>\n",
       "      <td>310.0</td>\n",
       "      <td>290.0</td>\n",
       "      <td>290.0</td>\n",
       "      <td>20000</td>\n",
       "    </tr>\n",
       "  </tbody>\n",
       "</table>\n",
       "</div>"
      ],
      "text/plain": [
       "         date   open   high    low  close  volume\n",
       "0  1980-03-17  290.0  310.0  290.0  290.0   10000\n",
       "1  1980-03-18  290.0  290.0  290.0  290.0       0\n",
       "2  1980-03-19  290.0  310.0  290.0  290.0   20000"
      ]
     },
     "execution_count": 2,
     "metadata": {},
     "output_type": "execute_result"
    }
   ],
   "source": [
    "brk = pd.read_csv('brk_stock_data.csv',skiprows=14)\n",
    "print(brk['date'][0],brk['date'].dtype)\n",
    "brk.head(3)"
   ]
  },
  {
   "cell_type": "code",
   "execution_count": 3,
   "metadata": {},
   "outputs": [
    {
     "data": {
      "text/plain": [
       "date       object\n",
       "open      float64\n",
       "high      float64\n",
       "low       float64\n",
       "close     float64\n",
       "volume      int64\n",
       "dtype: object"
      ]
     },
     "execution_count": 3,
     "metadata": {},
     "output_type": "execute_result"
    }
   ],
   "source": [
    "brk.dtypes"
   ]
  },
  {
   "cell_type": "markdown",
   "metadata": {},
   "source": [
    "### Date Formatting"
   ]
  },
  {
   "cell_type": "markdown",
   "metadata": {},
   "source": [
    "https://docs.python.org/3/library/datetime.html#strftime-and-strptime-behavior"
   ]
  },
  {
   "cell_type": "code",
   "execution_count": 4,
   "metadata": {},
   "outputs": [
    {
     "name": "stdout",
     "output_type": "stream",
     "text": [
      "1980-03-17 00:00:00 datetime64[ns]\n"
     ]
    }
   ],
   "source": [
    "# Format refers to the current state of the date string\n",
    "brk['date'] = pd.to_datetime(brk['date'],format='%Y-%m-%d')\n",
    "print(brk['date'][0],brk['date'].dtype)"
   ]
  },
  {
   "cell_type": "raw",
   "metadata": {},
   "source": [
    "# Reversing date format to string\n",
    "# Format refers to the desired string\n",
    "brk['date'] = brk['date'].dt.strftime('%d/%m/%Y')\n",
    "print(brk['date'][0],brk['date'].dtype)"
   ]
  },
  {
   "cell_type": "markdown",
   "metadata": {},
   "source": [
    "### Date as an index"
   ]
  },
  {
   "cell_type": "code",
   "execution_count": 5,
   "metadata": {},
   "outputs": [
    {
     "data": {
      "text/html": [
       "<div>\n",
       "<style scoped>\n",
       "    .dataframe tbody tr th:only-of-type {\n",
       "        vertical-align: middle;\n",
       "    }\n",
       "\n",
       "    .dataframe tbody tr th {\n",
       "        vertical-align: top;\n",
       "    }\n",
       "\n",
       "    .dataframe thead th {\n",
       "        text-align: right;\n",
       "    }\n",
       "</style>\n",
       "<table border=\"1\" class=\"dataframe\">\n",
       "  <thead>\n",
       "    <tr style=\"text-align: right;\">\n",
       "      <th></th>\n",
       "      <th>open</th>\n",
       "      <th>high</th>\n",
       "      <th>low</th>\n",
       "      <th>close</th>\n",
       "      <th>volume</th>\n",
       "    </tr>\n",
       "    <tr>\n",
       "      <th>date</th>\n",
       "      <th></th>\n",
       "      <th></th>\n",
       "      <th></th>\n",
       "      <th></th>\n",
       "      <th></th>\n",
       "    </tr>\n",
       "  </thead>\n",
       "  <tbody>\n",
       "    <tr>\n",
       "      <td>1980-03-17</td>\n",
       "      <td>290.0</td>\n",
       "      <td>310.0</td>\n",
       "      <td>290.0</td>\n",
       "      <td>290.0</td>\n",
       "      <td>10000</td>\n",
       "    </tr>\n",
       "    <tr>\n",
       "      <td>1980-03-18</td>\n",
       "      <td>290.0</td>\n",
       "      <td>290.0</td>\n",
       "      <td>290.0</td>\n",
       "      <td>290.0</td>\n",
       "      <td>0</td>\n",
       "    </tr>\n",
       "    <tr>\n",
       "      <td>1980-03-19</td>\n",
       "      <td>290.0</td>\n",
       "      <td>310.0</td>\n",
       "      <td>290.0</td>\n",
       "      <td>290.0</td>\n",
       "      <td>20000</td>\n",
       "    </tr>\n",
       "  </tbody>\n",
       "</table>\n",
       "</div>"
      ],
      "text/plain": [
       "             open   high    low  close  volume\n",
       "date                                          \n",
       "1980-03-17  290.0  310.0  290.0  290.0   10000\n",
       "1980-03-18  290.0  290.0  290.0  290.0       0\n",
       "1980-03-19  290.0  310.0  290.0  290.0   20000"
      ]
     },
     "execution_count": 5,
     "metadata": {},
     "output_type": "execute_result"
    }
   ],
   "source": [
    "brk = brk.set_index('date')\n",
    "brk.head(3)"
   ]
  },
  {
   "cell_type": "markdown",
   "metadata": {},
   "source": [
    "# Data play (NOT necessary for our app)"
   ]
  },
  {
   "cell_type": "markdown",
   "metadata": {},
   "source": [
    "### Date slicing"
   ]
  },
  {
   "cell_type": "code",
   "execution_count": 6,
   "metadata": {},
   "outputs": [
    {
     "data": {
      "text/html": [
       "<div>\n",
       "<style scoped>\n",
       "    .dataframe tbody tr th:only-of-type {\n",
       "        vertical-align: middle;\n",
       "    }\n",
       "\n",
       "    .dataframe tbody tr th {\n",
       "        vertical-align: top;\n",
       "    }\n",
       "\n",
       "    .dataframe thead th {\n",
       "        text-align: right;\n",
       "    }\n",
       "</style>\n",
       "<table border=\"1\" class=\"dataframe\">\n",
       "  <thead>\n",
       "    <tr style=\"text-align: right;\">\n",
       "      <th></th>\n",
       "      <th>open</th>\n",
       "      <th>high</th>\n",
       "      <th>low</th>\n",
       "      <th>close</th>\n",
       "      <th>volume</th>\n",
       "    </tr>\n",
       "    <tr>\n",
       "      <th>date</th>\n",
       "      <th></th>\n",
       "      <th></th>\n",
       "      <th></th>\n",
       "      <th></th>\n",
       "      <th></th>\n",
       "    </tr>\n",
       "  </thead>\n",
       "  <tbody>\n",
       "    <tr>\n",
       "      <td>2008-09-10</td>\n",
       "      <td>118500.0</td>\n",
       "      <td>118500.0</td>\n",
       "      <td>117000.0</td>\n",
       "      <td>117000.0</td>\n",
       "      <td>59600</td>\n",
       "    </tr>\n",
       "    <tr>\n",
       "      <td>2008-09-11</td>\n",
       "      <td>116200.0</td>\n",
       "      <td>117500.0</td>\n",
       "      <td>115500.0</td>\n",
       "      <td>117500.0</td>\n",
       "      <td>52000</td>\n",
       "    </tr>\n",
       "    <tr>\n",
       "      <td>2008-09-12</td>\n",
       "      <td>116700.0</td>\n",
       "      <td>119500.0</td>\n",
       "      <td>116310.0</td>\n",
       "      <td>119500.0</td>\n",
       "      <td>86500</td>\n",
       "    </tr>\n",
       "    <tr>\n",
       "      <td>2008-09-15</td>\n",
       "      <td>117000.0</td>\n",
       "      <td>123100.0</td>\n",
       "      <td>115500.0</td>\n",
       "      <td>119900.0</td>\n",
       "      <td>223200</td>\n",
       "    </tr>\n",
       "    <tr>\n",
       "      <td>2008-09-16</td>\n",
       "      <td>119000.0</td>\n",
       "      <td>125010.0</td>\n",
       "      <td>118300.0</td>\n",
       "      <td>125000.0</td>\n",
       "      <td>256200</td>\n",
       "    </tr>\n",
       "    <tr>\n",
       "      <td>2008-09-17</td>\n",
       "      <td>125000.0</td>\n",
       "      <td>125600.0</td>\n",
       "      <td>122900.0</td>\n",
       "      <td>124800.0</td>\n",
       "      <td>180000</td>\n",
       "    </tr>\n",
       "    <tr>\n",
       "      <td>2008-09-18</td>\n",
       "      <td>126000.0</td>\n",
       "      <td>128900.0</td>\n",
       "      <td>121310.0</td>\n",
       "      <td>128010.0</td>\n",
       "      <td>276500</td>\n",
       "    </tr>\n",
       "    <tr>\n",
       "      <td>2008-09-19</td>\n",
       "      <td>130000.0</td>\n",
       "      <td>147000.0</td>\n",
       "      <td>127901.0</td>\n",
       "      <td>147000.0</td>\n",
       "      <td>422800</td>\n",
       "    </tr>\n",
       "  </tbody>\n",
       "</table>\n",
       "</div>"
      ],
      "text/plain": [
       "                open      high       low     close  volume\n",
       "date                                                      \n",
       "2008-09-10  118500.0  118500.0  117000.0  117000.0   59600\n",
       "2008-09-11  116200.0  117500.0  115500.0  117500.0   52000\n",
       "2008-09-12  116700.0  119500.0  116310.0  119500.0   86500\n",
       "2008-09-15  117000.0  123100.0  115500.0  119900.0  223200\n",
       "2008-09-16  119000.0  125010.0  118300.0  125000.0  256200\n",
       "2008-09-17  125000.0  125600.0  122900.0  124800.0  180000\n",
       "2008-09-18  126000.0  128900.0  121310.0  128010.0  276500\n",
       "2008-09-19  130000.0  147000.0  127901.0  147000.0  422800"
      ]
     },
     "execution_count": 6,
     "metadata": {},
     "output_type": "execute_result"
    }
   ],
   "source": [
    "brk['2008-09-10':'2008-09-20']"
   ]
  },
  {
   "cell_type": "code",
   "execution_count": 7,
   "metadata": {},
   "outputs": [
    {
     "data": {
      "text/html": [
       "<div>\n",
       "<style scoped>\n",
       "    .dataframe tbody tr th:only-of-type {\n",
       "        vertical-align: middle;\n",
       "    }\n",
       "\n",
       "    .dataframe tbody tr th {\n",
       "        vertical-align: top;\n",
       "    }\n",
       "\n",
       "    .dataframe thead th {\n",
       "        text-align: right;\n",
       "    }\n",
       "</style>\n",
       "<table border=\"1\" class=\"dataframe\">\n",
       "  <thead>\n",
       "    <tr style=\"text-align: right;\">\n",
       "      <th></th>\n",
       "      <th>open</th>\n",
       "      <th>high</th>\n",
       "      <th>low</th>\n",
       "      <th>close</th>\n",
       "      <th>volume</th>\n",
       "    </tr>\n",
       "    <tr>\n",
       "      <th>date</th>\n",
       "      <th></th>\n",
       "      <th></th>\n",
       "      <th></th>\n",
       "      <th></th>\n",
       "      <th></th>\n",
       "    </tr>\n",
       "  </thead>\n",
       "  <tbody>\n",
       "    <tr>\n",
       "      <td>2008-07-01</td>\n",
       "      <td>119600.0</td>\n",
       "      <td>120710.0</td>\n",
       "      <td>119100.0</td>\n",
       "      <td>120100.0</td>\n",
       "      <td>56600</td>\n",
       "    </tr>\n",
       "    <tr>\n",
       "      <td>2008-07-02</td>\n",
       "      <td>119600.0</td>\n",
       "      <td>120100.0</td>\n",
       "      <td>118500.0</td>\n",
       "      <td>118665.0</td>\n",
       "      <td>59800</td>\n",
       "    </tr>\n",
       "    <tr>\n",
       "      <td>2008-07-03</td>\n",
       "      <td>118400.0</td>\n",
       "      <td>119000.0</td>\n",
       "      <td>114110.0</td>\n",
       "      <td>116700.0</td>\n",
       "      <td>130000</td>\n",
       "    </tr>\n",
       "    <tr>\n",
       "      <td>2008-07-07</td>\n",
       "      <td>118900.0</td>\n",
       "      <td>119700.0</td>\n",
       "      <td>115500.0</td>\n",
       "      <td>118440.0</td>\n",
       "      <td>82500</td>\n",
       "    </tr>\n",
       "    <tr>\n",
       "      <td>2008-07-08</td>\n",
       "      <td>118440.0</td>\n",
       "      <td>119350.0</td>\n",
       "      <td>117900.0</td>\n",
       "      <td>118750.0</td>\n",
       "      <td>73700</td>\n",
       "    </tr>\n",
       "    <tr>\n",
       "      <td>...</td>\n",
       "      <td>...</td>\n",
       "      <td>...</td>\n",
       "      <td>...</td>\n",
       "      <td>...</td>\n",
       "      <td>...</td>\n",
       "    </tr>\n",
       "    <tr>\n",
       "      <td>2009-12-24</td>\n",
       "      <td>98700.0</td>\n",
       "      <td>99400.0</td>\n",
       "      <td>98100.0</td>\n",
       "      <td>98895.0</td>\n",
       "      <td>49900</td>\n",
       "    </tr>\n",
       "    <tr>\n",
       "      <td>2009-12-28</td>\n",
       "      <td>98200.0</td>\n",
       "      <td>98994.0</td>\n",
       "      <td>98141.0</td>\n",
       "      <td>98530.0</td>\n",
       "      <td>102600</td>\n",
       "    </tr>\n",
       "    <tr>\n",
       "      <td>2009-12-29</td>\n",
       "      <td>98400.0</td>\n",
       "      <td>98870.0</td>\n",
       "      <td>98400.0</td>\n",
       "      <td>98550.0</td>\n",
       "      <td>75700</td>\n",
       "    </tr>\n",
       "    <tr>\n",
       "      <td>2009-12-30</td>\n",
       "      <td>98500.0</td>\n",
       "      <td>98800.0</td>\n",
       "      <td>98400.0</td>\n",
       "      <td>98700.0</td>\n",
       "      <td>52500</td>\n",
       "    </tr>\n",
       "    <tr>\n",
       "      <td>2009-12-31</td>\n",
       "      <td>99190.0</td>\n",
       "      <td>99280.0</td>\n",
       "      <td>98632.0</td>\n",
       "      <td>99200.0</td>\n",
       "      <td>82400</td>\n",
       "    </tr>\n",
       "  </tbody>\n",
       "</table>\n",
       "<p>380 rows × 5 columns</p>\n",
       "</div>"
      ],
      "text/plain": [
       "                open      high       low     close  volume\n",
       "date                                                      \n",
       "2008-07-01  119600.0  120710.0  119100.0  120100.0   56600\n",
       "2008-07-02  119600.0  120100.0  118500.0  118665.0   59800\n",
       "2008-07-03  118400.0  119000.0  114110.0  116700.0  130000\n",
       "2008-07-07  118900.0  119700.0  115500.0  118440.0   82500\n",
       "2008-07-08  118440.0  119350.0  117900.0  118750.0   73700\n",
       "...              ...       ...       ...       ...     ...\n",
       "2009-12-24   98700.0   99400.0   98100.0   98895.0   49900\n",
       "2009-12-28   98200.0   98994.0   98141.0   98530.0  102600\n",
       "2009-12-29   98400.0   98870.0   98400.0   98550.0   75700\n",
       "2009-12-30   98500.0   98800.0   98400.0   98700.0   52500\n",
       "2009-12-31   99190.0   99280.0   98632.0   99200.0   82400\n",
       "\n",
       "[380 rows x 5 columns]"
      ]
     },
     "execution_count": 7,
     "metadata": {},
     "output_type": "execute_result"
    }
   ],
   "source": [
    "brk['2008-07-01':'2010-01-01']"
   ]
  },
  {
   "cell_type": "code",
   "execution_count": 8,
   "metadata": {},
   "outputs": [
    {
     "data": {
      "text/html": [
       "<div>\n",
       "<style scoped>\n",
       "    .dataframe tbody tr th:only-of-type {\n",
       "        vertical-align: middle;\n",
       "    }\n",
       "\n",
       "    .dataframe tbody tr th {\n",
       "        vertical-align: top;\n",
       "    }\n",
       "\n",
       "    .dataframe thead th {\n",
       "        text-align: right;\n",
       "    }\n",
       "</style>\n",
       "<table border=\"1\" class=\"dataframe\">\n",
       "  <thead>\n",
       "    <tr style=\"text-align: right;\">\n",
       "      <th></th>\n",
       "      <th>open</th>\n",
       "      <th>high</th>\n",
       "      <th>low</th>\n",
       "      <th>close</th>\n",
       "      <th>volume</th>\n",
       "    </tr>\n",
       "    <tr>\n",
       "      <th>date</th>\n",
       "      <th></th>\n",
       "      <th></th>\n",
       "      <th></th>\n",
       "      <th></th>\n",
       "      <th></th>\n",
       "    </tr>\n",
       "  </thead>\n",
       "  <tbody>\n",
       "    <tr>\n",
       "      <td>1980-03-17</td>\n",
       "      <td>290.0</td>\n",
       "      <td>310.0</td>\n",
       "      <td>290.0</td>\n",
       "      <td>290.0</td>\n",
       "      <td>10000</td>\n",
       "    </tr>\n",
       "    <tr>\n",
       "      <td>1980-03-18</td>\n",
       "      <td>290.0</td>\n",
       "      <td>290.0</td>\n",
       "      <td>290.0</td>\n",
       "      <td>290.0</td>\n",
       "      <td>0</td>\n",
       "    </tr>\n",
       "    <tr>\n",
       "      <td>1980-03-19</td>\n",
       "      <td>290.0</td>\n",
       "      <td>310.0</td>\n",
       "      <td>290.0</td>\n",
       "      <td>290.0</td>\n",
       "      <td>20000</td>\n",
       "    </tr>\n",
       "    <tr>\n",
       "      <td>1980-03-20</td>\n",
       "      <td>290.0</td>\n",
       "      <td>290.0</td>\n",
       "      <td>290.0</td>\n",
       "      <td>290.0</td>\n",
       "      <td>0</td>\n",
       "    </tr>\n",
       "    <tr>\n",
       "      <td>1980-03-21</td>\n",
       "      <td>290.0</td>\n",
       "      <td>290.0</td>\n",
       "      <td>290.0</td>\n",
       "      <td>290.0</td>\n",
       "      <td>0</td>\n",
       "    </tr>\n",
       "    <tr>\n",
       "      <td>1980-03-24</td>\n",
       "      <td>290.0</td>\n",
       "      <td>290.0</td>\n",
       "      <td>270.0</td>\n",
       "      <td>270.0</td>\n",
       "      <td>10000</td>\n",
       "    </tr>\n",
       "    <tr>\n",
       "      <td>1980-03-25</td>\n",
       "      <td>270.0</td>\n",
       "      <td>270.0</td>\n",
       "      <td>270.0</td>\n",
       "      <td>270.0</td>\n",
       "      <td>0</td>\n",
       "    </tr>\n",
       "    <tr>\n",
       "      <td>1980-03-26</td>\n",
       "      <td>270.0</td>\n",
       "      <td>270.0</td>\n",
       "      <td>270.0</td>\n",
       "      <td>270.0</td>\n",
       "      <td>0</td>\n",
       "    </tr>\n",
       "    <tr>\n",
       "      <td>1980-03-27</td>\n",
       "      <td>270.0</td>\n",
       "      <td>270.0</td>\n",
       "      <td>270.0</td>\n",
       "      <td>270.0</td>\n",
       "      <td>0</td>\n",
       "    </tr>\n",
       "    <tr>\n",
       "      <td>1980-03-28</td>\n",
       "      <td>270.0</td>\n",
       "      <td>270.0</td>\n",
       "      <td>270.0</td>\n",
       "      <td>270.0</td>\n",
       "      <td>0</td>\n",
       "    </tr>\n",
       "    <tr>\n",
       "      <td>1980-03-31</td>\n",
       "      <td>270.0</td>\n",
       "      <td>280.0</td>\n",
       "      <td>260.0</td>\n",
       "      <td>260.0</td>\n",
       "      <td>10000</td>\n",
       "    </tr>\n",
       "    <tr>\n",
       "      <td>1980-04-01</td>\n",
       "      <td>260.0</td>\n",
       "      <td>280.0</td>\n",
       "      <td>260.0</td>\n",
       "      <td>260.0</td>\n",
       "      <td>30000</td>\n",
       "    </tr>\n",
       "  </tbody>\n",
       "</table>\n",
       "</div>"
      ],
      "text/plain": [
       "             open   high    low  close  volume\n",
       "date                                          \n",
       "1980-03-17  290.0  310.0  290.0  290.0   10000\n",
       "1980-03-18  290.0  290.0  290.0  290.0       0\n",
       "1980-03-19  290.0  310.0  290.0  290.0   20000\n",
       "1980-03-20  290.0  290.0  290.0  290.0       0\n",
       "1980-03-21  290.0  290.0  290.0  290.0       0\n",
       "1980-03-24  290.0  290.0  270.0  270.0   10000\n",
       "1980-03-25  270.0  270.0  270.0  270.0       0\n",
       "1980-03-26  270.0  270.0  270.0  270.0       0\n",
       "1980-03-27  270.0  270.0  270.0  270.0       0\n",
       "1980-03-28  270.0  270.0  270.0  270.0       0\n",
       "1980-03-31  270.0  280.0  260.0  260.0   10000\n",
       "1980-04-01  260.0  280.0  260.0  260.0   30000"
      ]
     },
     "execution_count": 8,
     "metadata": {},
     "output_type": "execute_result"
    }
   ],
   "source": [
    "brk.head(12)"
   ]
  },
  {
   "cell_type": "markdown",
   "metadata": {},
   "source": [
    "### Resampling"
   ]
  },
  {
   "cell_type": "code",
   "execution_count": 9,
   "metadata": {},
   "outputs": [
    {
     "data": {
      "text/html": [
       "<div>\n",
       "<style scoped>\n",
       "    .dataframe tbody tr th:only-of-type {\n",
       "        vertical-align: middle;\n",
       "    }\n",
       "\n",
       "    .dataframe tbody tr th {\n",
       "        vertical-align: top;\n",
       "    }\n",
       "\n",
       "    .dataframe thead th {\n",
       "        text-align: right;\n",
       "    }\n",
       "</style>\n",
       "<table border=\"1\" class=\"dataframe\">\n",
       "  <thead>\n",
       "    <tr style=\"text-align: right;\">\n",
       "      <th></th>\n",
       "      <th>open</th>\n",
       "      <th>high</th>\n",
       "      <th>low</th>\n",
       "      <th>close</th>\n",
       "      <th>volume</th>\n",
       "    </tr>\n",
       "    <tr>\n",
       "      <th>date</th>\n",
       "      <th></th>\n",
       "      <th></th>\n",
       "      <th></th>\n",
       "      <th></th>\n",
       "      <th></th>\n",
       "    </tr>\n",
       "  </thead>\n",
       "  <tbody>\n",
       "    <tr>\n",
       "      <td>1980-03-19 00:00:00</td>\n",
       "      <td>290.0</td>\n",
       "      <td>310.0</td>\n",
       "      <td>290.0</td>\n",
       "      <td>290.0</td>\n",
       "      <td>20000.0</td>\n",
       "    </tr>\n",
       "    <tr>\n",
       "      <td>1980-03-19 06:00:00</td>\n",
       "      <td>NaN</td>\n",
       "      <td>NaN</td>\n",
       "      <td>NaN</td>\n",
       "      <td>NaN</td>\n",
       "      <td>NaN</td>\n",
       "    </tr>\n",
       "    <tr>\n",
       "      <td>1980-03-19 12:00:00</td>\n",
       "      <td>NaN</td>\n",
       "      <td>NaN</td>\n",
       "      <td>NaN</td>\n",
       "      <td>NaN</td>\n",
       "      <td>NaN</td>\n",
       "    </tr>\n",
       "    <tr>\n",
       "      <td>1980-03-19 18:00:00</td>\n",
       "      <td>NaN</td>\n",
       "      <td>NaN</td>\n",
       "      <td>NaN</td>\n",
       "      <td>NaN</td>\n",
       "      <td>NaN</td>\n",
       "    </tr>\n",
       "    <tr>\n",
       "      <td>1980-03-20 00:00:00</td>\n",
       "      <td>290.0</td>\n",
       "      <td>290.0</td>\n",
       "      <td>290.0</td>\n",
       "      <td>290.0</td>\n",
       "      <td>0.0</td>\n",
       "    </tr>\n",
       "  </tbody>\n",
       "</table>\n",
       "</div>"
      ],
      "text/plain": [
       "                      open   high    low  close   volume\n",
       "date                                                    \n",
       "1980-03-19 00:00:00  290.0  310.0  290.0  290.0  20000.0\n",
       "1980-03-19 06:00:00    NaN    NaN    NaN    NaN      NaN\n",
       "1980-03-19 12:00:00    NaN    NaN    NaN    NaN      NaN\n",
       "1980-03-19 18:00:00    NaN    NaN    NaN    NaN      NaN\n",
       "1980-03-20 00:00:00  290.0  290.0  290.0  290.0      0.0"
      ]
     },
     "execution_count": 9,
     "metadata": {},
     "output_type": "execute_result"
    }
   ],
   "source": [
    "brk[2:4].resample('6h').asfreq()"
   ]
  },
  {
   "cell_type": "markdown",
   "metadata": {},
   "source": [
    "### Filling date gaps"
   ]
  },
  {
   "cell_type": "code",
   "execution_count": 10,
   "metadata": {},
   "outputs": [
    {
     "data": {
      "text/html": [
       "<div>\n",
       "<style scoped>\n",
       "    .dataframe tbody tr th:only-of-type {\n",
       "        vertical-align: middle;\n",
       "    }\n",
       "\n",
       "    .dataframe tbody tr th {\n",
       "        vertical-align: top;\n",
       "    }\n",
       "\n",
       "    .dataframe thead th {\n",
       "        text-align: right;\n",
       "    }\n",
       "</style>\n",
       "<table border=\"1\" class=\"dataframe\">\n",
       "  <thead>\n",
       "    <tr style=\"text-align: right;\">\n",
       "      <th></th>\n",
       "      <th>open</th>\n",
       "      <th>high</th>\n",
       "      <th>low</th>\n",
       "      <th>close</th>\n",
       "      <th>volume</th>\n",
       "    </tr>\n",
       "    <tr>\n",
       "      <th>date</th>\n",
       "      <th></th>\n",
       "      <th></th>\n",
       "      <th></th>\n",
       "      <th></th>\n",
       "      <th></th>\n",
       "    </tr>\n",
       "  </thead>\n",
       "  <tbody>\n",
       "    <tr>\n",
       "      <td>1980-03-21</td>\n",
       "      <td>290.0</td>\n",
       "      <td>290.0</td>\n",
       "      <td>290.0</td>\n",
       "      <td>290.0</td>\n",
       "      <td>0</td>\n",
       "    </tr>\n",
       "    <tr>\n",
       "      <td>1980-03-24</td>\n",
       "      <td>290.0</td>\n",
       "      <td>290.0</td>\n",
       "      <td>270.0</td>\n",
       "      <td>270.0</td>\n",
       "      <td>10000</td>\n",
       "    </tr>\n",
       "  </tbody>\n",
       "</table>\n",
       "</div>"
      ],
      "text/plain": [
       "             open   high    low  close  volume\n",
       "date                                          \n",
       "1980-03-21  290.0  290.0  290.0  290.0       0\n",
       "1980-03-24  290.0  290.0  270.0  270.0   10000"
      ]
     },
     "execution_count": 10,
     "metadata": {},
     "output_type": "execute_result"
    }
   ],
   "source": [
    "brk[4:6]"
   ]
  },
  {
   "cell_type": "code",
   "execution_count": 11,
   "metadata": {},
   "outputs": [
    {
     "data": {
      "text/html": [
       "<div>\n",
       "<style scoped>\n",
       "    .dataframe tbody tr th:only-of-type {\n",
       "        vertical-align: middle;\n",
       "    }\n",
       "\n",
       "    .dataframe tbody tr th {\n",
       "        vertical-align: top;\n",
       "    }\n",
       "\n",
       "    .dataframe thead th {\n",
       "        text-align: right;\n",
       "    }\n",
       "</style>\n",
       "<table border=\"1\" class=\"dataframe\">\n",
       "  <thead>\n",
       "    <tr style=\"text-align: right;\">\n",
       "      <th></th>\n",
       "      <th>open</th>\n",
       "      <th>high</th>\n",
       "      <th>low</th>\n",
       "      <th>close</th>\n",
       "      <th>volume</th>\n",
       "    </tr>\n",
       "    <tr>\n",
       "      <th>date</th>\n",
       "      <th></th>\n",
       "      <th></th>\n",
       "      <th></th>\n",
       "      <th></th>\n",
       "      <th></th>\n",
       "    </tr>\n",
       "  </thead>\n",
       "  <tbody>\n",
       "    <tr>\n",
       "      <td>1980-03-21</td>\n",
       "      <td>290.0</td>\n",
       "      <td>290.0</td>\n",
       "      <td>290.0</td>\n",
       "      <td>290.0</td>\n",
       "      <td>0.0</td>\n",
       "    </tr>\n",
       "    <tr>\n",
       "      <td>1980-03-22</td>\n",
       "      <td>NaN</td>\n",
       "      <td>NaN</td>\n",
       "      <td>NaN</td>\n",
       "      <td>NaN</td>\n",
       "      <td>NaN</td>\n",
       "    </tr>\n",
       "    <tr>\n",
       "      <td>1980-03-23</td>\n",
       "      <td>NaN</td>\n",
       "      <td>NaN</td>\n",
       "      <td>NaN</td>\n",
       "      <td>NaN</td>\n",
       "      <td>NaN</td>\n",
       "    </tr>\n",
       "    <tr>\n",
       "      <td>1980-03-24</td>\n",
       "      <td>290.0</td>\n",
       "      <td>290.0</td>\n",
       "      <td>270.0</td>\n",
       "      <td>270.0</td>\n",
       "      <td>10000.0</td>\n",
       "    </tr>\n",
       "  </tbody>\n",
       "</table>\n",
       "</div>"
      ],
      "text/plain": [
       "             open   high    low  close   volume\n",
       "date                                           \n",
       "1980-03-21  290.0  290.0  290.0  290.0      0.0\n",
       "1980-03-22    NaN    NaN    NaN    NaN      NaN\n",
       "1980-03-23    NaN    NaN    NaN    NaN      NaN\n",
       "1980-03-24  290.0  290.0  270.0  270.0  10000.0"
      ]
     },
     "execution_count": 11,
     "metadata": {},
     "output_type": "execute_result"
    }
   ],
   "source": [
    "brk[4:6].resample('1d').asfreq()"
   ]
  },
  {
   "cell_type": "code",
   "execution_count": 12,
   "metadata": {},
   "outputs": [
    {
     "data": {
      "text/html": [
       "<div>\n",
       "<style scoped>\n",
       "    .dataframe tbody tr th:only-of-type {\n",
       "        vertical-align: middle;\n",
       "    }\n",
       "\n",
       "    .dataframe tbody tr th {\n",
       "        vertical-align: top;\n",
       "    }\n",
       "\n",
       "    .dataframe thead th {\n",
       "        text-align: right;\n",
       "    }\n",
       "</style>\n",
       "<table border=\"1\" class=\"dataframe\">\n",
       "  <thead>\n",
       "    <tr style=\"text-align: right;\">\n",
       "      <th></th>\n",
       "      <th>open</th>\n",
       "      <th>high</th>\n",
       "      <th>low</th>\n",
       "      <th>close</th>\n",
       "      <th>volume</th>\n",
       "    </tr>\n",
       "    <tr>\n",
       "      <th>date</th>\n",
       "      <th></th>\n",
       "      <th></th>\n",
       "      <th></th>\n",
       "      <th></th>\n",
       "      <th></th>\n",
       "    </tr>\n",
       "  </thead>\n",
       "  <tbody>\n",
       "    <tr>\n",
       "      <td>1980-03-21</td>\n",
       "      <td>290.0</td>\n",
       "      <td>290.0</td>\n",
       "      <td>290.0</td>\n",
       "      <td>290.0</td>\n",
       "      <td>0</td>\n",
       "    </tr>\n",
       "    <tr>\n",
       "      <td>1980-03-22</td>\n",
       "      <td>290.0</td>\n",
       "      <td>290.0</td>\n",
       "      <td>290.0</td>\n",
       "      <td>290.0</td>\n",
       "      <td>0</td>\n",
       "    </tr>\n",
       "    <tr>\n",
       "      <td>1980-03-23</td>\n",
       "      <td>290.0</td>\n",
       "      <td>290.0</td>\n",
       "      <td>290.0</td>\n",
       "      <td>290.0</td>\n",
       "      <td>0</td>\n",
       "    </tr>\n",
       "    <tr>\n",
       "      <td>1980-03-24</td>\n",
       "      <td>290.0</td>\n",
       "      <td>290.0</td>\n",
       "      <td>270.0</td>\n",
       "      <td>270.0</td>\n",
       "      <td>10000</td>\n",
       "    </tr>\n",
       "  </tbody>\n",
       "</table>\n",
       "</div>"
      ],
      "text/plain": [
       "             open   high    low  close  volume\n",
       "date                                          \n",
       "1980-03-21  290.0  290.0  290.0  290.0       0\n",
       "1980-03-22  290.0  290.0  290.0  290.0       0\n",
       "1980-03-23  290.0  290.0  290.0  290.0       0\n",
       "1980-03-24  290.0  290.0  270.0  270.0   10000"
      ]
     },
     "execution_count": 12,
     "metadata": {},
     "output_type": "execute_result"
    }
   ],
   "source": [
    "brk[4:6].resample('1d').pad()"
   ]
  },
  {
   "cell_type": "code",
   "execution_count": 13,
   "metadata": {},
   "outputs": [
    {
     "data": {
      "text/html": [
       "<div>\n",
       "<style scoped>\n",
       "    .dataframe tbody tr th:only-of-type {\n",
       "        vertical-align: middle;\n",
       "    }\n",
       "\n",
       "    .dataframe tbody tr th {\n",
       "        vertical-align: top;\n",
       "    }\n",
       "\n",
       "    .dataframe thead th {\n",
       "        text-align: right;\n",
       "    }\n",
       "</style>\n",
       "<table border=\"1\" class=\"dataframe\">\n",
       "  <thead>\n",
       "    <tr style=\"text-align: right;\">\n",
       "      <th></th>\n",
       "      <th>open</th>\n",
       "      <th>high</th>\n",
       "      <th>low</th>\n",
       "      <th>close</th>\n",
       "      <th>volume</th>\n",
       "    </tr>\n",
       "    <tr>\n",
       "      <th>date</th>\n",
       "      <th></th>\n",
       "      <th></th>\n",
       "      <th></th>\n",
       "      <th></th>\n",
       "      <th></th>\n",
       "    </tr>\n",
       "  </thead>\n",
       "  <tbody>\n",
       "    <tr>\n",
       "      <td>1980-03-21</td>\n",
       "      <td>290.0</td>\n",
       "      <td>290.0</td>\n",
       "      <td>290.0</td>\n",
       "      <td>290.0</td>\n",
       "      <td>0</td>\n",
       "    </tr>\n",
       "    <tr>\n",
       "      <td>1980-03-22</td>\n",
       "      <td>290.0</td>\n",
       "      <td>290.0</td>\n",
       "      <td>270.0</td>\n",
       "      <td>270.0</td>\n",
       "      <td>10000</td>\n",
       "    </tr>\n",
       "    <tr>\n",
       "      <td>1980-03-23</td>\n",
       "      <td>290.0</td>\n",
       "      <td>290.0</td>\n",
       "      <td>270.0</td>\n",
       "      <td>270.0</td>\n",
       "      <td>10000</td>\n",
       "    </tr>\n",
       "    <tr>\n",
       "      <td>1980-03-24</td>\n",
       "      <td>290.0</td>\n",
       "      <td>290.0</td>\n",
       "      <td>270.0</td>\n",
       "      <td>270.0</td>\n",
       "      <td>10000</td>\n",
       "    </tr>\n",
       "  </tbody>\n",
       "</table>\n",
       "</div>"
      ],
      "text/plain": [
       "             open   high    low  close  volume\n",
       "date                                          \n",
       "1980-03-21  290.0  290.0  290.0  290.0       0\n",
       "1980-03-22  290.0  290.0  270.0  270.0   10000\n",
       "1980-03-23  290.0  290.0  270.0  270.0   10000\n",
       "1980-03-24  290.0  290.0  270.0  270.0   10000"
      ]
     },
     "execution_count": 13,
     "metadata": {},
     "output_type": "execute_result"
    }
   ],
   "source": [
    "brk[4:6].resample('1d').bfill()"
   ]
  },
  {
   "cell_type": "code",
   "execution_count": 14,
   "metadata": {},
   "outputs": [
    {
     "data": {
      "text/html": [
       "<div>\n",
       "<style scoped>\n",
       "    .dataframe tbody tr th:only-of-type {\n",
       "        vertical-align: middle;\n",
       "    }\n",
       "\n",
       "    .dataframe tbody tr th {\n",
       "        vertical-align: top;\n",
       "    }\n",
       "\n",
       "    .dataframe thead th {\n",
       "        text-align: right;\n",
       "    }\n",
       "</style>\n",
       "<table border=\"1\" class=\"dataframe\">\n",
       "  <thead>\n",
       "    <tr style=\"text-align: right;\">\n",
       "      <th></th>\n",
       "      <th>open</th>\n",
       "      <th>high</th>\n",
       "      <th>low</th>\n",
       "      <th>close</th>\n",
       "      <th>volume</th>\n",
       "    </tr>\n",
       "    <tr>\n",
       "      <th>date</th>\n",
       "      <th></th>\n",
       "      <th></th>\n",
       "      <th></th>\n",
       "      <th></th>\n",
       "      <th></th>\n",
       "    </tr>\n",
       "  </thead>\n",
       "  <tbody>\n",
       "    <tr>\n",
       "      <td>1980-03-21</td>\n",
       "      <td>290.0</td>\n",
       "      <td>290.0</td>\n",
       "      <td>290.0</td>\n",
       "      <td>290.0</td>\n",
       "      <td>0</td>\n",
       "    </tr>\n",
       "    <tr>\n",
       "      <td>1980-03-22</td>\n",
       "      <td>290.0</td>\n",
       "      <td>290.0</td>\n",
       "      <td>290.0</td>\n",
       "      <td>290.0</td>\n",
       "      <td>0</td>\n",
       "    </tr>\n",
       "    <tr>\n",
       "      <td>1980-03-23</td>\n",
       "      <td>290.0</td>\n",
       "      <td>290.0</td>\n",
       "      <td>290.0</td>\n",
       "      <td>290.0</td>\n",
       "      <td>0</td>\n",
       "    </tr>\n",
       "    <tr>\n",
       "      <td>1980-03-24</td>\n",
       "      <td>290.0</td>\n",
       "      <td>290.0</td>\n",
       "      <td>270.0</td>\n",
       "      <td>270.0</td>\n",
       "      <td>10000</td>\n",
       "    </tr>\n",
       "  </tbody>\n",
       "</table>\n",
       "</div>"
      ],
      "text/plain": [
       "             open   high    low  close  volume\n",
       "date                                          \n",
       "1980-03-21  290.0  290.0  290.0  290.0       0\n",
       "1980-03-22  290.0  290.0  290.0  290.0       0\n",
       "1980-03-23  290.0  290.0  290.0  290.0       0\n",
       "1980-03-24  290.0  290.0  270.0  270.0   10000"
      ]
     },
     "execution_count": 14,
     "metadata": {},
     "output_type": "execute_result"
    }
   ],
   "source": [
    "brk[4:6].resample('1d').ffill()"
   ]
  },
  {
   "cell_type": "markdown",
   "metadata": {},
   "source": [
    "### Unsampling"
   ]
  },
  {
   "cell_type": "code",
   "execution_count": 15,
   "metadata": {},
   "outputs": [
    {
     "data": {
      "text/html": [
       "<div>\n",
       "<style scoped>\n",
       "    .dataframe tbody tr th:only-of-type {\n",
       "        vertical-align: middle;\n",
       "    }\n",
       "\n",
       "    .dataframe tbody tr th {\n",
       "        vertical-align: top;\n",
       "    }\n",
       "\n",
       "    .dataframe thead th {\n",
       "        text-align: right;\n",
       "    }\n",
       "</style>\n",
       "<table border=\"1\" class=\"dataframe\">\n",
       "  <thead>\n",
       "    <tr style=\"text-align: right;\">\n",
       "      <th></th>\n",
       "      <th>open</th>\n",
       "      <th>high</th>\n",
       "      <th>low</th>\n",
       "      <th>close</th>\n",
       "      <th>volume</th>\n",
       "    </tr>\n",
       "    <tr>\n",
       "      <th>date</th>\n",
       "      <th></th>\n",
       "      <th></th>\n",
       "      <th></th>\n",
       "      <th></th>\n",
       "      <th></th>\n",
       "    </tr>\n",
       "  </thead>\n",
       "  <tbody>\n",
       "    <tr>\n",
       "      <td>1980-03-17</td>\n",
       "      <td>290.0</td>\n",
       "      <td>310.0</td>\n",
       "      <td>290.0</td>\n",
       "      <td>290.0</td>\n",
       "      <td>10000</td>\n",
       "    </tr>\n",
       "    <tr>\n",
       "      <td>1980-03-18</td>\n",
       "      <td>290.0</td>\n",
       "      <td>290.0</td>\n",
       "      <td>290.0</td>\n",
       "      <td>290.0</td>\n",
       "      <td>0</td>\n",
       "    </tr>\n",
       "    <tr>\n",
       "      <td>1980-03-19</td>\n",
       "      <td>290.0</td>\n",
       "      <td>310.0</td>\n",
       "      <td>290.0</td>\n",
       "      <td>290.0</td>\n",
       "      <td>20000</td>\n",
       "    </tr>\n",
       "    <tr>\n",
       "      <td>1980-03-20</td>\n",
       "      <td>290.0</td>\n",
       "      <td>290.0</td>\n",
       "      <td>290.0</td>\n",
       "      <td>290.0</td>\n",
       "      <td>0</td>\n",
       "    </tr>\n",
       "    <tr>\n",
       "      <td>1980-03-21</td>\n",
       "      <td>290.0</td>\n",
       "      <td>290.0</td>\n",
       "      <td>290.0</td>\n",
       "      <td>290.0</td>\n",
       "      <td>0</td>\n",
       "    </tr>\n",
       "    <tr>\n",
       "      <td>1980-03-24</td>\n",
       "      <td>290.0</td>\n",
       "      <td>290.0</td>\n",
       "      <td>270.0</td>\n",
       "      <td>270.0</td>\n",
       "      <td>10000</td>\n",
       "    </tr>\n",
       "    <tr>\n",
       "      <td>1980-03-25</td>\n",
       "      <td>270.0</td>\n",
       "      <td>270.0</td>\n",
       "      <td>270.0</td>\n",
       "      <td>270.0</td>\n",
       "      <td>0</td>\n",
       "    </tr>\n",
       "    <tr>\n",
       "      <td>1980-03-26</td>\n",
       "      <td>270.0</td>\n",
       "      <td>270.0</td>\n",
       "      <td>270.0</td>\n",
       "      <td>270.0</td>\n",
       "      <td>0</td>\n",
       "    </tr>\n",
       "    <tr>\n",
       "      <td>1980-03-27</td>\n",
       "      <td>270.0</td>\n",
       "      <td>270.0</td>\n",
       "      <td>270.0</td>\n",
       "      <td>270.0</td>\n",
       "      <td>0</td>\n",
       "    </tr>\n",
       "    <tr>\n",
       "      <td>1980-03-28</td>\n",
       "      <td>270.0</td>\n",
       "      <td>270.0</td>\n",
       "      <td>270.0</td>\n",
       "      <td>270.0</td>\n",
       "      <td>0</td>\n",
       "    </tr>\n",
       "    <tr>\n",
       "      <td>1980-03-31</td>\n",
       "      <td>270.0</td>\n",
       "      <td>280.0</td>\n",
       "      <td>260.0</td>\n",
       "      <td>260.0</td>\n",
       "      <td>10000</td>\n",
       "    </tr>\n",
       "    <tr>\n",
       "      <td>1980-04-01</td>\n",
       "      <td>260.0</td>\n",
       "      <td>280.0</td>\n",
       "      <td>260.0</td>\n",
       "      <td>260.0</td>\n",
       "      <td>30000</td>\n",
       "    </tr>\n",
       "    <tr>\n",
       "      <td>1980-04-02</td>\n",
       "      <td>260.0</td>\n",
       "      <td>260.0</td>\n",
       "      <td>260.0</td>\n",
       "      <td>260.0</td>\n",
       "      <td>0</td>\n",
       "    </tr>\n",
       "    <tr>\n",
       "      <td>1980-04-03</td>\n",
       "      <td>260.0</td>\n",
       "      <td>280.0</td>\n",
       "      <td>260.0</td>\n",
       "      <td>260.0</td>\n",
       "      <td>10000</td>\n",
       "    </tr>\n",
       "    <tr>\n",
       "      <td>1980-04-07</td>\n",
       "      <td>265.0</td>\n",
       "      <td>285.0</td>\n",
       "      <td>265.0</td>\n",
       "      <td>265.0</td>\n",
       "      <td>10000</td>\n",
       "    </tr>\n",
       "  </tbody>\n",
       "</table>\n",
       "</div>"
      ],
      "text/plain": [
       "             open   high    low  close  volume\n",
       "date                                          \n",
       "1980-03-17  290.0  310.0  290.0  290.0   10000\n",
       "1980-03-18  290.0  290.0  290.0  290.0       0\n",
       "1980-03-19  290.0  310.0  290.0  290.0   20000\n",
       "1980-03-20  290.0  290.0  290.0  290.0       0\n",
       "1980-03-21  290.0  290.0  290.0  290.0       0\n",
       "1980-03-24  290.0  290.0  270.0  270.0   10000\n",
       "1980-03-25  270.0  270.0  270.0  270.0       0\n",
       "1980-03-26  270.0  270.0  270.0  270.0       0\n",
       "1980-03-27  270.0  270.0  270.0  270.0       0\n",
       "1980-03-28  270.0  270.0  270.0  270.0       0\n",
       "1980-03-31  270.0  280.0  260.0  260.0   10000\n",
       "1980-04-01  260.0  280.0  260.0  260.0   30000\n",
       "1980-04-02  260.0  260.0  260.0  260.0       0\n",
       "1980-04-03  260.0  280.0  260.0  260.0   10000\n",
       "1980-04-07  265.0  285.0  265.0  265.0   10000"
      ]
     },
     "execution_count": 15,
     "metadata": {},
     "output_type": "execute_result"
    }
   ],
   "source": [
    "brk[:15]"
   ]
  },
  {
   "cell_type": "code",
   "execution_count": 16,
   "metadata": {},
   "outputs": [
    {
     "data": {
      "text/plain": [
       "date\n",
       "1980-03-23     30000\n",
       "1980-03-30     10000\n",
       "1980-04-06     50000\n",
       "1980-04-13    120000\n",
       "1980-04-20     70000\n",
       "               ...  \n",
       "2019-10-27      1423\n",
       "2019-11-03      2377\n",
       "2019-11-10      2165\n",
       "2019-11-17       921\n",
       "2019-11-24       499\n",
       "Freq: W-SUN, Name: volume, Length: 2071, dtype: int64"
      ]
     },
     "execution_count": 16,
     "metadata": {},
     "output_type": "execute_result"
    }
   ],
   "source": [
    "brk['volume'].resample('1w').sum()"
   ]
  },
  {
   "cell_type": "markdown",
   "metadata": {},
   "source": [
    "### Differentiating"
   ]
  },
  {
   "cell_type": "code",
   "execution_count": 17,
   "metadata": {},
   "outputs": [
    {
     "data": {
      "text/html": [
       "<div>\n",
       "<style scoped>\n",
       "    .dataframe tbody tr th:only-of-type {\n",
       "        vertical-align: middle;\n",
       "    }\n",
       "\n",
       "    .dataframe tbody tr th {\n",
       "        vertical-align: top;\n",
       "    }\n",
       "\n",
       "    .dataframe thead th {\n",
       "        text-align: right;\n",
       "    }\n",
       "</style>\n",
       "<table border=\"1\" class=\"dataframe\">\n",
       "  <thead>\n",
       "    <tr style=\"text-align: right;\">\n",
       "      <th></th>\n",
       "      <th>open</th>\n",
       "      <th>high</th>\n",
       "      <th>low</th>\n",
       "      <th>close</th>\n",
       "      <th>volume</th>\n",
       "      <th>volume_diff</th>\n",
       "    </tr>\n",
       "    <tr>\n",
       "      <th>date</th>\n",
       "      <th></th>\n",
       "      <th></th>\n",
       "      <th></th>\n",
       "      <th></th>\n",
       "      <th></th>\n",
       "      <th></th>\n",
       "    </tr>\n",
       "  </thead>\n",
       "  <tbody>\n",
       "    <tr>\n",
       "      <td>1980-03-17</td>\n",
       "      <td>290.0</td>\n",
       "      <td>310.0</td>\n",
       "      <td>290.0</td>\n",
       "      <td>290.0</td>\n",
       "      <td>10000</td>\n",
       "      <td>NaN</td>\n",
       "    </tr>\n",
       "    <tr>\n",
       "      <td>1980-03-18</td>\n",
       "      <td>290.0</td>\n",
       "      <td>290.0</td>\n",
       "      <td>290.0</td>\n",
       "      <td>290.0</td>\n",
       "      <td>0</td>\n",
       "      <td>-10000.0</td>\n",
       "    </tr>\n",
       "    <tr>\n",
       "      <td>1980-03-19</td>\n",
       "      <td>290.0</td>\n",
       "      <td>310.0</td>\n",
       "      <td>290.0</td>\n",
       "      <td>290.0</td>\n",
       "      <td>20000</td>\n",
       "      <td>20000.0</td>\n",
       "    </tr>\n",
       "    <tr>\n",
       "      <td>1980-03-20</td>\n",
       "      <td>290.0</td>\n",
       "      <td>290.0</td>\n",
       "      <td>290.0</td>\n",
       "      <td>290.0</td>\n",
       "      <td>0</td>\n",
       "      <td>-20000.0</td>\n",
       "    </tr>\n",
       "    <tr>\n",
       "      <td>1980-03-21</td>\n",
       "      <td>290.0</td>\n",
       "      <td>290.0</td>\n",
       "      <td>290.0</td>\n",
       "      <td>290.0</td>\n",
       "      <td>0</td>\n",
       "      <td>0.0</td>\n",
       "    </tr>\n",
       "  </tbody>\n",
       "</table>\n",
       "</div>"
      ],
      "text/plain": [
       "             open   high    low  close  volume  volume_diff\n",
       "date                                                       \n",
       "1980-03-17  290.0  310.0  290.0  290.0   10000          NaN\n",
       "1980-03-18  290.0  290.0  290.0  290.0       0     -10000.0\n",
       "1980-03-19  290.0  310.0  290.0  290.0   20000      20000.0\n",
       "1980-03-20  290.0  290.0  290.0  290.0       0     -20000.0\n",
       "1980-03-21  290.0  290.0  290.0  290.0       0          0.0"
      ]
     },
     "execution_count": 17,
     "metadata": {},
     "output_type": "execute_result"
    }
   ],
   "source": [
    "brk['volume_diff'] = brk['volume'].diff(1)\n",
    "brk.head()"
   ]
  },
  {
   "cell_type": "markdown",
   "metadata": {},
   "source": [
    "### Differencing loop"
   ]
  },
  {
   "cell_type": "code",
   "execution_count": 18,
   "metadata": {
    "scrolled": true
   },
   "outputs": [
    {
     "data": {
      "text/html": [
       "<div>\n",
       "<style scoped>\n",
       "    .dataframe tbody tr th:only-of-type {\n",
       "        vertical-align: middle;\n",
       "    }\n",
       "\n",
       "    .dataframe tbody tr th {\n",
       "        vertical-align: top;\n",
       "    }\n",
       "\n",
       "    .dataframe thead th {\n",
       "        text-align: right;\n",
       "    }\n",
       "</style>\n",
       "<table border=\"1\" class=\"dataframe\">\n",
       "  <thead>\n",
       "    <tr style=\"text-align: right;\">\n",
       "      <th></th>\n",
       "      <th>close_diff</th>\n",
       "      <th>volume_diff</th>\n",
       "    </tr>\n",
       "    <tr>\n",
       "      <th>date</th>\n",
       "      <th></th>\n",
       "      <th></th>\n",
       "    </tr>\n",
       "  </thead>\n",
       "  <tbody>\n",
       "    <tr>\n",
       "      <td>1980-03-23</td>\n",
       "      <td>NaN</td>\n",
       "      <td>NaN</td>\n",
       "    </tr>\n",
       "    <tr>\n",
       "      <td>1980-03-30</td>\n",
       "      <td>-20.00</td>\n",
       "      <td>-4000.0</td>\n",
       "    </tr>\n",
       "    <tr>\n",
       "      <td>1980-04-06</td>\n",
       "      <td>-10.00</td>\n",
       "      <td>10500.0</td>\n",
       "    </tr>\n",
       "    <tr>\n",
       "      <td>1980-04-13</td>\n",
       "      <td>3.00</td>\n",
       "      <td>11500.0</td>\n",
       "    </tr>\n",
       "    <tr>\n",
       "      <td>1980-04-20</td>\n",
       "      <td>-12.00</td>\n",
       "      <td>-10000.0</td>\n",
       "    </tr>\n",
       "    <tr>\n",
       "      <td>...</td>\n",
       "      <td>...</td>\n",
       "      <td>...</td>\n",
       "    </tr>\n",
       "    <tr>\n",
       "      <td>2019-10-27</td>\n",
       "      <td>3308.00</td>\n",
       "      <td>86.6</td>\n",
       "    </tr>\n",
       "    <tr>\n",
       "      <td>2019-11-03</td>\n",
       "      <td>3613.42</td>\n",
       "      <td>190.8</td>\n",
       "    </tr>\n",
       "    <tr>\n",
       "      <td>2019-11-10</td>\n",
       "      <td>11144.78</td>\n",
       "      <td>-42.4</td>\n",
       "    </tr>\n",
       "    <tr>\n",
       "      <td>2019-11-17</td>\n",
       "      <td>-1268.00</td>\n",
       "      <td>-248.8</td>\n",
       "    </tr>\n",
       "    <tr>\n",
       "      <td>2019-11-24</td>\n",
       "      <td>-1127.20</td>\n",
       "      <td>65.3</td>\n",
       "    </tr>\n",
       "  </tbody>\n",
       "</table>\n",
       "<p>2071 rows × 2 columns</p>\n",
       "</div>"
      ],
      "text/plain": [
       "            close_diff  volume_diff\n",
       "date                               \n",
       "1980-03-23         NaN          NaN\n",
       "1980-03-30      -20.00      -4000.0\n",
       "1980-04-06      -10.00      10500.0\n",
       "1980-04-13        3.00      11500.0\n",
       "1980-04-20      -12.00     -10000.0\n",
       "...                ...          ...\n",
       "2019-10-27     3308.00         86.6\n",
       "2019-11-03     3613.42        190.8\n",
       "2019-11-10    11144.78        -42.4\n",
       "2019-11-17    -1268.00       -248.8\n",
       "2019-11-24    -1127.20         65.3\n",
       "\n",
       "[2071 rows x 2 columns]"
      ]
     },
     "execution_count": 18,
     "metadata": {},
     "output_type": "execute_result"
    }
   ],
   "source": [
    "brk = brk.resample('1w').mean()\n",
    "for col in list(['close','volume']):\n",
    "    brk[col+'_diff'] = brk[col].diff(1)\n",
    "brk[['close_diff','volume_diff']]"
   ]
  },
  {
   "cell_type": "code",
   "execution_count": 19,
   "metadata": {},
   "outputs": [],
   "source": [
    "brk['prev_day_close'] =  brk['close'].shift(1)\n",
    "brk['close_diff'] =  brk['close'] - brk['prev_day_close']\n",
    "brk['daily_returns'] = (brk['close'] / brk['prev_day_close'] -1) *100"
   ]
  },
  {
   "cell_type": "code",
   "execution_count": 20,
   "metadata": {},
   "outputs": [
    {
     "data": {
      "text/html": [
       "<div>\n",
       "<style scoped>\n",
       "    .dataframe tbody tr th:only-of-type {\n",
       "        vertical-align: middle;\n",
       "    }\n",
       "\n",
       "    .dataframe tbody tr th {\n",
       "        vertical-align: top;\n",
       "    }\n",
       "\n",
       "    .dataframe thead th {\n",
       "        text-align: right;\n",
       "    }\n",
       "</style>\n",
       "<table border=\"1\" class=\"dataframe\">\n",
       "  <thead>\n",
       "    <tr style=\"text-align: right;\">\n",
       "      <th></th>\n",
       "      <th>open</th>\n",
       "      <th>high</th>\n",
       "      <th>low</th>\n",
       "      <th>close</th>\n",
       "      <th>volume</th>\n",
       "      <th>volume_diff</th>\n",
       "      <th>close_diff</th>\n",
       "      <th>prev_day_close</th>\n",
       "      <th>daily_returns</th>\n",
       "    </tr>\n",
       "    <tr>\n",
       "      <th>date</th>\n",
       "      <th></th>\n",
       "      <th></th>\n",
       "      <th></th>\n",
       "      <th></th>\n",
       "      <th></th>\n",
       "      <th></th>\n",
       "      <th></th>\n",
       "      <th></th>\n",
       "      <th></th>\n",
       "    </tr>\n",
       "  </thead>\n",
       "  <tbody>\n",
       "    <tr>\n",
       "      <td>2019-10-27</td>\n",
       "      <td>315615.000</td>\n",
       "      <td>317366.798</td>\n",
       "      <td>315086.000</td>\n",
       "      <td>316550.00</td>\n",
       "      <td>284.6</td>\n",
       "      <td>86.6</td>\n",
       "      <td>3308.00</td>\n",
       "      <td>313242.00</td>\n",
       "      <td>1.056053</td>\n",
       "    </tr>\n",
       "    <tr>\n",
       "      <td>2019-11-03</td>\n",
       "      <td>319000.810</td>\n",
       "      <td>321012.012</td>\n",
       "      <td>318160.002</td>\n",
       "      <td>320163.42</td>\n",
       "      <td>475.4</td>\n",
       "      <td>190.8</td>\n",
       "      <td>3613.42</td>\n",
       "      <td>316550.00</td>\n",
       "      <td>1.141501</td>\n",
       "    </tr>\n",
       "    <tr>\n",
       "      <td>2019-11-10</td>\n",
       "      <td>330559.000</td>\n",
       "      <td>332320.158</td>\n",
       "      <td>329219.600</td>\n",
       "      <td>331308.20</td>\n",
       "      <td>433.0</td>\n",
       "      <td>-42.4</td>\n",
       "      <td>11144.78</td>\n",
       "      <td>320163.42</td>\n",
       "      <td>3.480966</td>\n",
       "    </tr>\n",
       "    <tr>\n",
       "      <td>2019-11-17</td>\n",
       "      <td>330056.000</td>\n",
       "      <td>331001.332</td>\n",
       "      <td>329028.992</td>\n",
       "      <td>330040.20</td>\n",
       "      <td>184.2</td>\n",
       "      <td>-248.8</td>\n",
       "      <td>-1268.00</td>\n",
       "      <td>331308.20</td>\n",
       "      <td>-0.382725</td>\n",
       "    </tr>\n",
       "    <tr>\n",
       "      <td>2019-11-24</td>\n",
       "      <td>329930.025</td>\n",
       "      <td>330199.995</td>\n",
       "      <td>328057.500</td>\n",
       "      <td>328913.00</td>\n",
       "      <td>249.5</td>\n",
       "      <td>65.3</td>\n",
       "      <td>-1127.20</td>\n",
       "      <td>330040.20</td>\n",
       "      <td>-0.341534</td>\n",
       "    </tr>\n",
       "  </tbody>\n",
       "</table>\n",
       "</div>"
      ],
      "text/plain": [
       "                  open        high         low      close  volume  \\\n",
       "date                                                                \n",
       "2019-10-27  315615.000  317366.798  315086.000  316550.00   284.6   \n",
       "2019-11-03  319000.810  321012.012  318160.002  320163.42   475.4   \n",
       "2019-11-10  330559.000  332320.158  329219.600  331308.20   433.0   \n",
       "2019-11-17  330056.000  331001.332  329028.992  330040.20   184.2   \n",
       "2019-11-24  329930.025  330199.995  328057.500  328913.00   249.5   \n",
       "\n",
       "            volume_diff  close_diff  prev_day_close  daily_returns  \n",
       "date                                                                \n",
       "2019-10-27         86.6     3308.00       313242.00       1.056053  \n",
       "2019-11-03        190.8     3613.42       316550.00       1.141501  \n",
       "2019-11-10        -42.4    11144.78       320163.42       3.480966  \n",
       "2019-11-17       -248.8    -1268.00       331308.20      -0.382725  \n",
       "2019-11-24         65.3    -1127.20       330040.20      -0.341534  "
      ]
     },
     "execution_count": 20,
     "metadata": {},
     "output_type": "execute_result"
    }
   ],
   "source": [
    "brk.tail()"
   ]
  },
  {
   "cell_type": "markdown",
   "metadata": {},
   "source": [
    "### Simple Moving Average"
   ]
  },
  {
   "cell_type": "code",
   "execution_count": 21,
   "metadata": {},
   "outputs": [
    {
     "data": {
      "text/html": [
       "<div>\n",
       "<style scoped>\n",
       "    .dataframe tbody tr th:only-of-type {\n",
       "        vertical-align: middle;\n",
       "    }\n",
       "\n",
       "    .dataframe tbody tr th {\n",
       "        vertical-align: top;\n",
       "    }\n",
       "\n",
       "    .dataframe thead th {\n",
       "        text-align: right;\n",
       "    }\n",
       "</style>\n",
       "<table border=\"1\" class=\"dataframe\">\n",
       "  <thead>\n",
       "    <tr style=\"text-align: right;\">\n",
       "      <th></th>\n",
       "      <th>open</th>\n",
       "      <th>high</th>\n",
       "      <th>low</th>\n",
       "      <th>close</th>\n",
       "      <th>volume</th>\n",
       "      <th>volume_diff</th>\n",
       "      <th>close_diff</th>\n",
       "      <th>prev_day_close</th>\n",
       "      <th>daily_returns</th>\n",
       "    </tr>\n",
       "    <tr>\n",
       "      <th>date</th>\n",
       "      <th></th>\n",
       "      <th></th>\n",
       "      <th></th>\n",
       "      <th></th>\n",
       "      <th></th>\n",
       "      <th></th>\n",
       "      <th></th>\n",
       "      <th></th>\n",
       "      <th></th>\n",
       "    </tr>\n",
       "  </thead>\n",
       "  <tbody>\n",
       "    <tr>\n",
       "      <td>2019-10-27</td>\n",
       "      <td>315615.000</td>\n",
       "      <td>317366.798</td>\n",
       "      <td>315086.000</td>\n",
       "      <td>316550.00</td>\n",
       "      <td>284.6</td>\n",
       "      <td>86.6</td>\n",
       "      <td>3308.00</td>\n",
       "      <td>313242.00</td>\n",
       "      <td>1.056053</td>\n",
       "    </tr>\n",
       "    <tr>\n",
       "      <td>2019-11-03</td>\n",
       "      <td>319000.810</td>\n",
       "      <td>321012.012</td>\n",
       "      <td>318160.002</td>\n",
       "      <td>320163.42</td>\n",
       "      <td>475.4</td>\n",
       "      <td>190.8</td>\n",
       "      <td>3613.42</td>\n",
       "      <td>316550.00</td>\n",
       "      <td>1.141501</td>\n",
       "    </tr>\n",
       "    <tr>\n",
       "      <td>2019-11-10</td>\n",
       "      <td>330559.000</td>\n",
       "      <td>332320.158</td>\n",
       "      <td>329219.600</td>\n",
       "      <td>331308.20</td>\n",
       "      <td>433.0</td>\n",
       "      <td>-42.4</td>\n",
       "      <td>11144.78</td>\n",
       "      <td>320163.42</td>\n",
       "      <td>3.480966</td>\n",
       "    </tr>\n",
       "    <tr>\n",
       "      <td>2019-11-17</td>\n",
       "      <td>330056.000</td>\n",
       "      <td>331001.332</td>\n",
       "      <td>329028.992</td>\n",
       "      <td>330040.20</td>\n",
       "      <td>184.2</td>\n",
       "      <td>-248.8</td>\n",
       "      <td>-1268.00</td>\n",
       "      <td>331308.20</td>\n",
       "      <td>-0.382725</td>\n",
       "    </tr>\n",
       "    <tr>\n",
       "      <td>2019-11-24</td>\n",
       "      <td>329930.025</td>\n",
       "      <td>330199.995</td>\n",
       "      <td>328057.500</td>\n",
       "      <td>328913.00</td>\n",
       "      <td>249.5</td>\n",
       "      <td>65.3</td>\n",
       "      <td>-1127.20</td>\n",
       "      <td>330040.20</td>\n",
       "      <td>-0.341534</td>\n",
       "    </tr>\n",
       "  </tbody>\n",
       "</table>\n",
       "</div>"
      ],
      "text/plain": [
       "                  open        high         low      close  volume  \\\n",
       "date                                                                \n",
       "2019-10-27  315615.000  317366.798  315086.000  316550.00   284.6   \n",
       "2019-11-03  319000.810  321012.012  318160.002  320163.42   475.4   \n",
       "2019-11-10  330559.000  332320.158  329219.600  331308.20   433.0   \n",
       "2019-11-17  330056.000  331001.332  329028.992  330040.20   184.2   \n",
       "2019-11-24  329930.025  330199.995  328057.500  328913.00   249.5   \n",
       "\n",
       "            volume_diff  close_diff  prev_day_close  daily_returns  \n",
       "date                                                                \n",
       "2019-10-27         86.6     3308.00       313242.00       1.056053  \n",
       "2019-11-03        190.8     3613.42       316550.00       1.141501  \n",
       "2019-11-10        -42.4    11144.78       320163.42       3.480966  \n",
       "2019-11-17       -248.8    -1268.00       331308.20      -0.382725  \n",
       "2019-11-24         65.3    -1127.20       330040.20      -0.341534  "
      ]
     },
     "execution_count": 21,
     "metadata": {},
     "output_type": "execute_result"
    }
   ],
   "source": [
    "brk[-5:]"
   ]
  },
  {
   "cell_type": "code",
   "execution_count": 22,
   "metadata": {},
   "outputs": [
    {
     "data": {
      "text/html": [
       "<div>\n",
       "<style scoped>\n",
       "    .dataframe tbody tr th:only-of-type {\n",
       "        vertical-align: middle;\n",
       "    }\n",
       "\n",
       "    .dataframe tbody tr th {\n",
       "        vertical-align: top;\n",
       "    }\n",
       "\n",
       "    .dataframe thead th {\n",
       "        text-align: right;\n",
       "    }\n",
       "</style>\n",
       "<table border=\"1\" class=\"dataframe\">\n",
       "  <thead>\n",
       "    <tr style=\"text-align: right;\">\n",
       "      <th></th>\n",
       "      <th>open</th>\n",
       "      <th>high</th>\n",
       "      <th>low</th>\n",
       "      <th>close</th>\n",
       "      <th>volume</th>\n",
       "      <th>volume_diff</th>\n",
       "      <th>close_diff</th>\n",
       "      <th>prev_day_close</th>\n",
       "      <th>daily_returns</th>\n",
       "    </tr>\n",
       "    <tr>\n",
       "      <th>date</th>\n",
       "      <th></th>\n",
       "      <th></th>\n",
       "      <th></th>\n",
       "      <th></th>\n",
       "      <th></th>\n",
       "      <th></th>\n",
       "      <th></th>\n",
       "      <th></th>\n",
       "      <th></th>\n",
       "    </tr>\n",
       "  </thead>\n",
       "  <tbody>\n",
       "    <tr>\n",
       "      <td>2019-10-27</td>\n",
       "      <td>NaN</td>\n",
       "      <td>NaN</td>\n",
       "      <td>NaN</td>\n",
       "      <td>NaN</td>\n",
       "      <td>NaN</td>\n",
       "      <td>NaN</td>\n",
       "      <td>NaN</td>\n",
       "      <td>NaN</td>\n",
       "      <td>NaN</td>\n",
       "    </tr>\n",
       "    <tr>\n",
       "      <td>2019-11-03</td>\n",
       "      <td>NaN</td>\n",
       "      <td>NaN</td>\n",
       "      <td>NaN</td>\n",
       "      <td>NaN</td>\n",
       "      <td>NaN</td>\n",
       "      <td>NaN</td>\n",
       "      <td>NaN</td>\n",
       "      <td>NaN</td>\n",
       "      <td>NaN</td>\n",
       "    </tr>\n",
       "    <tr>\n",
       "      <td>2019-11-10</td>\n",
       "      <td>321724.936667</td>\n",
       "      <td>323566.322667</td>\n",
       "      <td>320821.867333</td>\n",
       "      <td>322673.873333</td>\n",
       "      <td>397.666667</td>\n",
       "      <td>78.333333</td>\n",
       "      <td>6022.066667</td>\n",
       "      <td>316651.806667</td>\n",
       "      <td>1.892840</td>\n",
       "    </tr>\n",
       "    <tr>\n",
       "      <td>2019-11-17</td>\n",
       "      <td>326538.603333</td>\n",
       "      <td>328111.167333</td>\n",
       "      <td>325469.531333</td>\n",
       "      <td>327170.606667</td>\n",
       "      <td>364.200000</td>\n",
       "      <td>-33.466667</td>\n",
       "      <td>4496.733333</td>\n",
       "      <td>322673.873333</td>\n",
       "      <td>1.413247</td>\n",
       "    </tr>\n",
       "    <tr>\n",
       "      <td>2019-11-24</td>\n",
       "      <td>330181.675000</td>\n",
       "      <td>331173.828333</td>\n",
       "      <td>328768.697333</td>\n",
       "      <td>330087.133333</td>\n",
       "      <td>288.900000</td>\n",
       "      <td>-75.300000</td>\n",
       "      <td>2916.526667</td>\n",
       "      <td>327170.606667</td>\n",
       "      <td>0.918902</td>\n",
       "    </tr>\n",
       "  </tbody>\n",
       "</table>\n",
       "</div>"
      ],
      "text/plain": [
       "                     open           high            low          close  \\\n",
       "date                                                                     \n",
       "2019-10-27            NaN            NaN            NaN            NaN   \n",
       "2019-11-03            NaN            NaN            NaN            NaN   \n",
       "2019-11-10  321724.936667  323566.322667  320821.867333  322673.873333   \n",
       "2019-11-17  326538.603333  328111.167333  325469.531333  327170.606667   \n",
       "2019-11-24  330181.675000  331173.828333  328768.697333  330087.133333   \n",
       "\n",
       "                volume  volume_diff   close_diff  prev_day_close  \\\n",
       "date                                                               \n",
       "2019-10-27         NaN          NaN          NaN             NaN   \n",
       "2019-11-03         NaN          NaN          NaN             NaN   \n",
       "2019-11-10  397.666667    78.333333  6022.066667   316651.806667   \n",
       "2019-11-17  364.200000   -33.466667  4496.733333   322673.873333   \n",
       "2019-11-24  288.900000   -75.300000  2916.526667   327170.606667   \n",
       "\n",
       "            daily_returns  \n",
       "date                       \n",
       "2019-10-27            NaN  \n",
       "2019-11-03            NaN  \n",
       "2019-11-10       1.892840  \n",
       "2019-11-17       1.413247  \n",
       "2019-11-24       0.918902  "
      ]
     },
     "execution_count": 22,
     "metadata": {},
     "output_type": "execute_result"
    }
   ],
   "source": [
    "brk[-5:].rolling(window = 3).mean()"
   ]
  },
  {
   "cell_type": "code",
   "execution_count": 23,
   "metadata": {},
   "outputs": [
    {
     "data": {
      "text/html": [
       "<div>\n",
       "<style scoped>\n",
       "    .dataframe tbody tr th:only-of-type {\n",
       "        vertical-align: middle;\n",
       "    }\n",
       "\n",
       "    .dataframe tbody tr th {\n",
       "        vertical-align: top;\n",
       "    }\n",
       "\n",
       "    .dataframe thead th {\n",
       "        text-align: right;\n",
       "    }\n",
       "</style>\n",
       "<table border=\"1\" class=\"dataframe\">\n",
       "  <thead>\n",
       "    <tr style=\"text-align: right;\">\n",
       "      <th></th>\n",
       "      <th>open</th>\n",
       "      <th>high</th>\n",
       "      <th>low</th>\n",
       "      <th>close</th>\n",
       "      <th>volume</th>\n",
       "      <th>volume_diff</th>\n",
       "      <th>close_diff</th>\n",
       "      <th>prev_day_close</th>\n",
       "      <th>daily_returns</th>\n",
       "    </tr>\n",
       "    <tr>\n",
       "      <th>date</th>\n",
       "      <th></th>\n",
       "      <th></th>\n",
       "      <th></th>\n",
       "      <th></th>\n",
       "      <th></th>\n",
       "      <th></th>\n",
       "      <th></th>\n",
       "      <th></th>\n",
       "      <th></th>\n",
       "    </tr>\n",
       "  </thead>\n",
       "  <tbody>\n",
       "    <tr>\n",
       "      <td>2019-10-27</td>\n",
       "      <td>NaN</td>\n",
       "      <td>NaN</td>\n",
       "      <td>NaN</td>\n",
       "      <td>NaN</td>\n",
       "      <td>NaN</td>\n",
       "      <td>NaN</td>\n",
       "      <td>NaN</td>\n",
       "      <td>NaN</td>\n",
       "      <td>NaN</td>\n",
       "    </tr>\n",
       "    <tr>\n",
       "      <td>2019-11-03</td>\n",
       "      <td>NaN</td>\n",
       "      <td>NaN</td>\n",
       "      <td>NaN</td>\n",
       "      <td>NaN</td>\n",
       "      <td>NaN</td>\n",
       "      <td>NaN</td>\n",
       "      <td>NaN</td>\n",
       "      <td>NaN</td>\n",
       "      <td>NaN</td>\n",
       "    </tr>\n",
       "    <tr>\n",
       "      <td>2019-11-10</td>\n",
       "      <td>NaN</td>\n",
       "      <td>NaN</td>\n",
       "      <td>NaN</td>\n",
       "      <td>NaN</td>\n",
       "      <td>NaN</td>\n",
       "      <td>NaN</td>\n",
       "      <td>NaN</td>\n",
       "      <td>NaN</td>\n",
       "      <td>NaN</td>\n",
       "    </tr>\n",
       "    <tr>\n",
       "      <td>2019-11-17</td>\n",
       "      <td>NaN</td>\n",
       "      <td>NaN</td>\n",
       "      <td>NaN</td>\n",
       "      <td>NaN</td>\n",
       "      <td>NaN</td>\n",
       "      <td>NaN</td>\n",
       "      <td>NaN</td>\n",
       "      <td>NaN</td>\n",
       "      <td>NaN</td>\n",
       "    </tr>\n",
       "    <tr>\n",
       "      <td>2019-11-24</td>\n",
       "      <td>NaN</td>\n",
       "      <td>NaN</td>\n",
       "      <td>NaN</td>\n",
       "      <td>NaN</td>\n",
       "      <td>NaN</td>\n",
       "      <td>NaN</td>\n",
       "      <td>NaN</td>\n",
       "      <td>NaN</td>\n",
       "      <td>NaN</td>\n",
       "    </tr>\n",
       "  </tbody>\n",
       "</table>\n",
       "</div>"
      ],
      "text/plain": [
       "            open  high  low  close  volume  volume_diff  close_diff  \\\n",
       "date                                                                  \n",
       "2019-10-27   NaN   NaN  NaN    NaN     NaN          NaN         NaN   \n",
       "2019-11-03   NaN   NaN  NaN    NaN     NaN          NaN         NaN   \n",
       "2019-11-10   NaN   NaN  NaN    NaN     NaN          NaN         NaN   \n",
       "2019-11-17   NaN   NaN  NaN    NaN     NaN          NaN         NaN   \n",
       "2019-11-24   NaN   NaN  NaN    NaN     NaN          NaN         NaN   \n",
       "\n",
       "            prev_day_close  daily_returns  \n",
       "date                                       \n",
       "2019-10-27             NaN            NaN  \n",
       "2019-11-03             NaN            NaN  \n",
       "2019-11-10             NaN            NaN  \n",
       "2019-11-17             NaN            NaN  \n",
       "2019-11-24             NaN            NaN  "
      ]
     },
     "execution_count": 23,
     "metadata": {},
     "output_type": "execute_result"
    }
   ],
   "source": [
    "brk[-5:].rolling(window = '3d',min_periods=3).mean()"
   ]
  },
  {
   "cell_type": "markdown",
   "metadata": {},
   "source": [
    "### Exponential Weighted Moving Average"
   ]
  },
  {
   "cell_type": "code",
   "execution_count": 24,
   "metadata": {},
   "outputs": [
    {
     "data": {
      "text/html": [
       "<div>\n",
       "<style scoped>\n",
       "    .dataframe tbody tr th:only-of-type {\n",
       "        vertical-align: middle;\n",
       "    }\n",
       "\n",
       "    .dataframe tbody tr th {\n",
       "        vertical-align: top;\n",
       "    }\n",
       "\n",
       "    .dataframe thead th {\n",
       "        text-align: right;\n",
       "    }\n",
       "</style>\n",
       "<table border=\"1\" class=\"dataframe\">\n",
       "  <thead>\n",
       "    <tr style=\"text-align: right;\">\n",
       "      <th></th>\n",
       "      <th>open</th>\n",
       "      <th>high</th>\n",
       "      <th>low</th>\n",
       "      <th>close</th>\n",
       "      <th>volume</th>\n",
       "      <th>volume_diff</th>\n",
       "      <th>close_diff</th>\n",
       "      <th>prev_day_close</th>\n",
       "      <th>daily_returns</th>\n",
       "    </tr>\n",
       "    <tr>\n",
       "      <th>date</th>\n",
       "      <th></th>\n",
       "      <th></th>\n",
       "      <th></th>\n",
       "      <th></th>\n",
       "      <th></th>\n",
       "      <th></th>\n",
       "      <th></th>\n",
       "      <th></th>\n",
       "      <th></th>\n",
       "    </tr>\n",
       "  </thead>\n",
       "  <tbody>\n",
       "    <tr>\n",
       "      <td>2019-10-27</td>\n",
       "      <td>315615.000000</td>\n",
       "      <td>317366.798000</td>\n",
       "      <td>315086.000000</td>\n",
       "      <td>316550.000000</td>\n",
       "      <td>284.600000</td>\n",
       "      <td>86.600000</td>\n",
       "      <td>3308.000000</td>\n",
       "      <td>313242.000000</td>\n",
       "      <td>1.056053</td>\n",
       "    </tr>\n",
       "    <tr>\n",
       "      <td>2019-11-03</td>\n",
       "      <td>317872.206667</td>\n",
       "      <td>319796.940667</td>\n",
       "      <td>317135.334667</td>\n",
       "      <td>318958.946667</td>\n",
       "      <td>411.800000</td>\n",
       "      <td>156.066667</td>\n",
       "      <td>3511.613333</td>\n",
       "      <td>315447.333333</td>\n",
       "      <td>1.113018</td>\n",
       "    </tr>\n",
       "    <tr>\n",
       "      <td>2019-11-10</td>\n",
       "      <td>325121.802857</td>\n",
       "      <td>326953.064857</td>\n",
       "      <td>324040.629143</td>\n",
       "      <td>326015.662857</td>\n",
       "      <td>423.914286</td>\n",
       "      <td>42.657143</td>\n",
       "      <td>7873.422857</td>\n",
       "      <td>318142.240000</td>\n",
       "      <td>2.466131</td>\n",
       "    </tr>\n",
       "    <tr>\n",
       "      <td>2019-11-17</td>\n",
       "      <td>327753.374667</td>\n",
       "      <td>329112.140667</td>\n",
       "      <td>326701.089333</td>\n",
       "      <td>328162.082667</td>\n",
       "      <td>296.066667</td>\n",
       "      <td>-112.786667</td>\n",
       "      <td>2997.997333</td>\n",
       "      <td>325164.085333</td>\n",
       "      <td>0.946741</td>\n",
       "    </tr>\n",
       "    <tr>\n",
       "      <td>2019-11-24</td>\n",
       "      <td>328876.807097</td>\n",
       "      <td>329673.613871</td>\n",
       "      <td>327401.172258</td>\n",
       "      <td>328549.652903</td>\n",
       "      <td>272.032258</td>\n",
       "      <td>-20.870968</td>\n",
       "      <td>868.863226</td>\n",
       "      <td>327680.789677</td>\n",
       "      <td>0.281825</td>\n",
       "    </tr>\n",
       "  </tbody>\n",
       "</table>\n",
       "</div>"
      ],
      "text/plain": [
       "                     open           high            low          close  \\\n",
       "date                                                                     \n",
       "2019-10-27  315615.000000  317366.798000  315086.000000  316550.000000   \n",
       "2019-11-03  317872.206667  319796.940667  317135.334667  318958.946667   \n",
       "2019-11-10  325121.802857  326953.064857  324040.629143  326015.662857   \n",
       "2019-11-17  327753.374667  329112.140667  326701.089333  328162.082667   \n",
       "2019-11-24  328876.807097  329673.613871  327401.172258  328549.652903   \n",
       "\n",
       "                volume  volume_diff   close_diff  prev_day_close  \\\n",
       "date                                                               \n",
       "2019-10-27  284.600000    86.600000  3308.000000   313242.000000   \n",
       "2019-11-03  411.800000   156.066667  3511.613333   315447.333333   \n",
       "2019-11-10  423.914286    42.657143  7873.422857   318142.240000   \n",
       "2019-11-17  296.066667  -112.786667  2997.997333   325164.085333   \n",
       "2019-11-24  272.032258   -20.870968   868.863226   327680.789677   \n",
       "\n",
       "            daily_returns  \n",
       "date                       \n",
       "2019-10-27       1.056053  \n",
       "2019-11-03       1.113018  \n",
       "2019-11-10       2.466131  \n",
       "2019-11-17       0.946741  \n",
       "2019-11-24       0.281825  "
      ]
     },
     "execution_count": 24,
     "metadata": {},
     "output_type": "execute_result"
    }
   ],
   "source": [
    "brk[-5:].ewm(halflife = 1).mean()"
   ]
  },
  {
   "cell_type": "markdown",
   "metadata": {},
   "source": [
    "# Making our data stationary (necessary for application) - Choose 1 method"
   ]
  },
  {
   "cell_type": "code",
   "execution_count": 25,
   "metadata": {},
   "outputs": [
    {
     "data": {
      "text/plain": [
       "<matplotlib.axes._subplots.AxesSubplot at 0x11b0cb5f8>"
      ]
     },
     "execution_count": 25,
     "metadata": {},
     "output_type": "execute_result"
    },
    {
     "data": {
      "image/png": "[encoded data removed]",
      "text/plain": [
       "<Figure size 432x288 with 1 Axes>"
      ]
     },
     "metadata": {
      "needs_background": "light"
     },
     "output_type": "display_data"
    }
   ],
   "source": [
    "brk = brk.resample('1w').mean()\n",
    "ts = brk['close']\n",
    "ts.plot()"
   ]
  },
  {
   "cell_type": "markdown",
   "metadata": {},
   "source": [
    "## Checking for Stationarity"
   ]
  },
  {
   "cell_type": "code",
   "execution_count": 26,
   "metadata": {},
   "outputs": [
    {
     "data": {
      "text/plain": [
       "(2.939071018687451,\n",
       " 1.0,\n",
       " 26,\n",
       " 2044,\n",
       " {'1%': -3.4335532932197967,\n",
       "  '5%': -2.8629550592036455,\n",
       "  '10%': -2.5675233142202276},\n",
       " 37376.53259728556)"
      ]
     },
     "execution_count": 26,
     "metadata": {},
     "output_type": "execute_result"
    }
   ],
   "source": [
    "from statsmodels.tsa.stattools import adfuller\n",
    "adfuller(ts)"
   ]
  },
  {
   "cell_type": "markdown",
   "metadata": {},
   "source": [
    "## Detrending"
   ]
  },
  {
   "cell_type": "markdown",
   "metadata": {},
   "source": [
    "### log"
   ]
  },
  {
   "cell_type": "code",
   "execution_count": 27,
   "metadata": {},
   "outputs": [
    {
     "data": {
      "text/plain": [
       "1.0"
      ]
     },
     "execution_count": 27,
     "metadata": {},
     "output_type": "execute_result"
    },
    {
     "data": {
      "image/png": "[encoded data removed]",
      "text/plain": [
       "<Figure size 432x288 with 1 Axes>"
      ]
     },
     "metadata": {
      "needs_background": "light"
     },
     "output_type": "display_data"
    }
   ],
   "source": [
    "ts_log = np.log10(ts)\n",
    "ts_log.plot()\n",
    "adfuller(ts)[1]"
   ]
  },
  {
   "cell_type": "markdown",
   "metadata": {},
   "source": [
    "### Square root"
   ]
  },
  {
   "cell_type": "code",
   "execution_count": 28,
   "metadata": {},
   "outputs": [
    {
     "data": {
      "text/plain": [
       "1.0"
      ]
     },
     "execution_count": 28,
     "metadata": {},
     "output_type": "execute_result"
    },
    {
     "data": {
      "image/png": "[encoded data removed]",
      "text/plain": [
       "<Figure size 432x288 with 1 Axes>"
      ]
     },
     "metadata": {
      "needs_background": "light"
     },
     "output_type": "display_data"
    }
   ],
   "source": [
    "ts_sqrt = np.sqrt(ts)\n",
    "ts_sqrt.plot()\n",
    "adfuller(ts)[1]"
   ]
  },
  {
   "cell_type": "code",
   "execution_count": 29,
   "metadata": {},
   "outputs": [
    {
     "data": {
      "text/plain": [
       "1.0"
      ]
     },
     "execution_count": 29,
     "metadata": {},
     "output_type": "execute_result"
    },
    {
     "data": {
      "image/png": "[encoded data removed]",
      "text/plain": [
       "<Figure size 432x288 with 1 Axes>"
      ]
     },
     "metadata": {
      "needs_background": "light"
     },
     "output_type": "display_data"
    }
   ],
   "source": [
    "ts_log_rs = ts_log.resample('1d').pad()\n",
    "ts_log_rs.plot()\n",
    "logsma7 = ts_log_rs.rolling('7d').mean()\n",
    "logsma7.plot()\n",
    "adfuller(ts)[1]"
   ]
  },
  {
   "cell_type": "code",
   "execution_count": 30,
   "metadata": {
    "scrolled": false
   },
   "outputs": [
    {
     "data": {
      "text/plain": [
       "0.0"
      ]
     },
     "execution_count": 30,
     "metadata": {},
     "output_type": "execute_result"
    },
    {
     "data": {
      "image/png": "[encoded data removed]",
      "text/plain": [
       "<Figure size 432x288 with 1 Axes>"
      ]
     },
     "metadata": {
      "needs_background": "light"
     },
     "output_type": "display_data"
    }
   ],
   "source": [
    "logdiff1 = ts_log.diff(1).bfill()\n",
    "logdiff1.plot()\n",
    "adfuller(logdiff1)[1]"
   ]
  },
  {
   "cell_type": "code",
   "execution_count": 31,
   "metadata": {},
   "outputs": [
    {
     "name": "stdout",
     "output_type": "stream",
     "text": [
      "0.0006326156225215945\n"
     ]
    },
    {
     "data": {
      "text/plain": [
       "0.0"
      ]
     },
     "execution_count": 31,
     "metadata": {},
     "output_type": "execute_result"
    },
    {
     "data": {
      "image/png": "[encoded data removed]",
      "text/plain": [
       "<Figure size 432x288 with 1 Axes>"
      ]
     },
     "metadata": {
      "needs_background": "light"
     },
     "output_type": "display_data"
    }
   ],
   "source": [
    "ts_log_rs_nt = ts_log_rs - logsma7\n",
    "print(ts_log_rs_nt.mean())\n",
    "ts_log_rs_nt.plot()\n",
    "adfuller(ts_log_rs_nt)[1]"
   ]
  },
  {
   "cell_type": "markdown",
   "metadata": {},
   "source": [
    "## Decomposing"
   ]
  },
  {
   "cell_type": "code",
   "execution_count": 32,
   "metadata": {},
   "outputs": [
    {
     "name": "stdout",
     "output_type": "stream",
     "text": [
      "78094.39757069378 1.0000294367785056 0.9973478238245732\n"
     ]
    },
    {
     "data": {
      "image/png": "[encoded data removed]",
      "text/plain": [
       "<Figure size 432x288 with 1 Axes>"
      ]
     },
     "metadata": {
      "needs_background": "light"
     },
     "output_type": "display_data"
    },
    {
     "data": {
      "image/png": "[encoded data removed]",
      "text/plain": [
       "<Figure size 432x288 with 1 Axes>"
      ]
     },
     "metadata": {
      "needs_background": "light"
     },
     "output_type": "display_data"
    }
   ],
   "source": [
    "from statsmodels.tsa.seasonal import seasonal_decompose\n",
    "decomposition = seasonal_decompose(ts,model='multiplicative')\n",
    "\n",
    "trend = decomposition.trend\n",
    "seasonal = decomposition.seasonal\n",
    "residual = decomposition.resid\n",
    "\n",
    "print(trend.mean(),seasonal.mean(),residual.mean())\n",
    "\n",
    "trend.plot()\n",
    "plt.show()\n",
    "seasonal.plot()\n",
    "residual.plot()\n",
    "plt.show()"
   ]
  },
  {
   "cell_type": "code",
   "execution_count": 33,
   "metadata": {},
   "outputs": [
    {
     "name": "stdout",
     "output_type": "stream",
     "text": [
      "4.4466954930296 1.2174084410931123e-05 0.00027923851930422816\n"
     ]
    },
    {
     "data": {
      "image/png": "[encoded data removed]",
      "text/plain": [
       "<Figure size 432x288 with 1 Axes>"
      ]
     },
     "metadata": {
      "needs_background": "light"
     },
     "output_type": "display_data"
    },
    {
     "data": {
      "image/png": "[encoded data removed]",
      "text/plain": [
       "<Figure size 432x288 with 1 Axes>"
      ]
     },
     "metadata": {
      "needs_background": "light"
     },
     "output_type": "display_data"
    }
   ],
   "source": [
    "from statsmodels.tsa.seasonal import seasonal_decompose\n",
    "decomposition = seasonal_decompose(ts_log,model='additive')\n",
    "\n",
    "trend = decomposition.trend\n",
    "seasonal = decomposition.seasonal\n",
    "residual = decomposition.resid\n",
    "\n",
    "print(trend.mean(),seasonal.mean(),residual.mean())\n",
    "\n",
    "trend.plot()\n",
    "plt.show()\n",
    "seasonal.plot()\n",
    "residual.plot()\n",
    "plt.show()"
   ]
  },
  {
   "cell_type": "markdown",
   "metadata": {},
   "source": [
    "# ARIMA parameters ideation (necessary for our application)"
   ]
  },
  {
   "cell_type": "code",
   "execution_count": 34,
   "metadata": {},
   "outputs": [],
   "source": [
    "from statsmodels.graphics.tsaplots import plot_pacf,plot_acf"
   ]
  },
  {
   "cell_type": "code",
   "execution_count": 35,
   "metadata": {
    "scrolled": false
   },
   "outputs": [
    {
     "data": {
      "image/png": "[encoded data removed]",
      "text/plain": [
       "<Figure size 432x288 with 1 Axes>"
      ]
     },
     "metadata": {
      "needs_background": "light"
     },
     "output_type": "display_data"
    },
    {
     "data": {
      "image/png": "[encoded data removed]",
      "text/plain": [
       "<Figure size 432x288 with 1 Axes>"
      ]
     },
     "metadata": {
      "needs_background": "light"
     },
     "output_type": "display_data"
    }
   ],
   "source": [
    "plot_acf(ts_log,lags=30)\n",
    "plot_pacf(ts_log);"
   ]
  },
  {
   "cell_type": "markdown",
   "metadata": {},
   "source": [
    "Looking like MA(1)"
   ]
  },
  {
   "cell_type": "code",
   "execution_count": 36,
   "metadata": {},
   "outputs": [
    {
     "data": {
      "image/png": "[encoded data removed]",
      "text/plain": [
       "<Figure size 432x288 with 1 Axes>"
      ]
     },
     "metadata": {
      "needs_background": "light"
     },
     "output_type": "display_data"
    },
    {
     "data": {
      "image/png": "[encoded data removed]",
      "text/plain": [
       "<Figure size 432x288 with 1 Axes>"
      ]
     },
     "metadata": {
      "needs_background": "light"
     },
     "output_type": "display_data"
    }
   ],
   "source": [
    "plot_acf(ts_log.diff(1),lags=30)\n",
    "plot_pacf(ts_log.diff(1));"
   ]
  },
  {
   "cell_type": "markdown",
   "metadata": {},
   "source": [
    "No patterns left after differentiation"
   ]
  },
  {
   "cell_type": "markdown",
   "metadata": {},
   "source": [
    "# Fitting SARIMAX (our application)"
   ]
  },
  {
   "cell_type": "code",
   "execution_count": 37,
   "metadata": {},
   "outputs": [],
   "source": [
    "# Set the date that will separate your training and test datasets\n",
    "train_stop = pd.to_datetime('2018-11-25')"
   ]
  },
  {
   "cell_type": "markdown",
   "metadata": {},
   "source": [
    "We know that our data:\n",
    "    - contains a trend\n",
    "      - the trend is relatively stable\n",
    "    - contains MA(1) pattern\n",
    "We are going to try an ARIMA(0,1,1) with constant type of trend after differentiation (which implies a drift)"
   ]
  },
  {
   "cell_type": "code",
   "execution_count": 38,
   "metadata": {},
   "outputs": [
    {
     "data": {
      "text/html": [
       "<table class=\"simpletable\">\n",
       "<caption>Statespace Model Results</caption>\n",
       "<tr>\n",
       "  <th>Dep. Variable:</th>         <td>close</td>      <th>  No. Observations:  </th>    <td>2019</td>   \n",
       "</tr>\n",
       "<tr>\n",
       "  <th>Model:</th>           <td>SARIMAX(0, 1, 1)</td> <th>  Log Likelihood     </th>  <td>6250.749</td> \n",
       "</tr>\n",
       "<tr>\n",
       "  <th>Date:</th>            <td>Fri, 10 Jan 2020</td> <th>  AIC                </th> <td>-12495.497</td>\n",
       "</tr>\n",
       "<tr>\n",
       "  <th>Time:</th>                <td>12:36:33</td>     <th>  BIC                </th> <td>-12478.671</td>\n",
       "</tr>\n",
       "<tr>\n",
       "  <th>Sample:</th>             <td>03-23-1980</td>    <th>  HQIC               </th> <td>-12489.322</td>\n",
       "</tr>\n",
       "<tr>\n",
       "  <th></th>                   <td>- 11-25-2018</td>   <th>                     </th>      <td> </td>    \n",
       "</tr>\n",
       "<tr>\n",
       "  <th>Covariance Type:</th>        <td>opg</td>       <th>                     </th>      <td> </td>    \n",
       "</tr>\n",
       "</table>\n",
       "<table class=\"simpletable\">\n",
       "<tr>\n",
       "      <td></td>         <th>coef</th>     <th>std err</th>      <th>z</th>      <th>P>|z|</th>  <th>[0.025</th>    <th>0.975]</th>  \n",
       "</tr>\n",
       "<tr>\n",
       "  <th>intercept</th> <td>    0.0015</td> <td>    0.000</td> <td>    5.245</td> <td> 0.000</td> <td>    0.001</td> <td>    0.002</td>\n",
       "</tr>\n",
       "<tr>\n",
       "  <th>ma.L1</th>     <td>    0.1949</td> <td>    0.014</td> <td>   14.214</td> <td> 0.000</td> <td>    0.168</td> <td>    0.222</td>\n",
       "</tr>\n",
       "<tr>\n",
       "  <th>sigma2</th>    <td>    0.0001</td> <td> 2.02e-06</td> <td>   58.868</td> <td> 0.000</td> <td>    0.000</td> <td>    0.000</td>\n",
       "</tr>\n",
       "</table>\n",
       "<table class=\"simpletable\">\n",
       "<tr>\n",
       "  <th>Ljung-Box (Q):</th>          <td>47.55</td> <th>  Jarque-Bera (JB):  </th> <td>2038.71</td>\n",
       "</tr>\n",
       "<tr>\n",
       "  <th>Prob(Q):</th>                <td>0.19</td>  <th>  Prob(JB):          </th>  <td>0.00</td>  \n",
       "</tr>\n",
       "<tr>\n",
       "  <th>Heteroskedasticity (H):</th> <td>0.74</td>  <th>  Skew:              </th>  <td>-0.04</td> \n",
       "</tr>\n",
       "<tr>\n",
       "  <th>Prob(H) (two-sided):</th>    <td>0.00</td>  <th>  Kurtosis:          </th>  <td>7.93</td>  \n",
       "</tr>\n",
       "</table><br/><br/>Warnings:<br/>[1] Covariance matrix calculated using the outer product of gradients (complex-step)."
      ],
      "text/plain": [
       "<class 'statsmodels.iolib.summary.Summary'>\n",
       "\"\"\"\n",
       "                           Statespace Model Results                           \n",
       "==============================================================================\n",
       "Dep. Variable:                  close   No. Observations:                 2019\n",
       "Model:               SARIMAX(0, 1, 1)   Log Likelihood                6250.749\n",
       "Date:                Fri, 10 Jan 2020   AIC                         -12495.497\n",
       "Time:                        12:36:33   BIC                         -12478.671\n",
       "Sample:                    03-23-1980   HQIC                        -12489.322\n",
       "                         - 11-25-2018                                         \n",
       "Covariance Type:                  opg                                         \n",
       "==============================================================================\n",
       "                 coef    std err          z      P>|z|      [0.025      0.975]\n",
       "------------------------------------------------------------------------------\n",
       "intercept      0.0015      0.000      5.245      0.000       0.001       0.002\n",
       "ma.L1          0.1949      0.014     14.214      0.000       0.168       0.222\n",
       "sigma2         0.0001   2.02e-06     58.868      0.000       0.000       0.000\n",
       "===================================================================================\n",
       "Ljung-Box (Q):                       47.55   Jarque-Bera (JB):              2038.71\n",
       "Prob(Q):                              0.19   Prob(JB):                         0.00\n",
       "Heteroskedasticity (H):               0.74   Skew:                            -0.04\n",
       "Prob(H) (two-sided):                  0.00   Kurtosis:                         7.93\n",
       "===================================================================================\n",
       "\n",
       "Warnings:\n",
       "[1] Covariance matrix calculated using the outer product of gradients (complex-step).\n",
       "\"\"\""
      ]
     },
     "execution_count": 38,
     "metadata": {},
     "output_type": "execute_result"
    }
   ],
   "source": [
    "from statsmodels.tsa.statespace.sarimax import SARIMAX\n",
    "model = SARIMAX(ts_log[:train_stop],order=(0, 1, 1)#,seasonal_order=(1, 1, 1, 12)\n",
    "                ,trend='c',\n",
    "                enforce_stationarity=False,enforce_invertibility=False)\n",
    "output = model.fit()\n",
    "output.summary()"
   ]
  },
  {
   "cell_type": "code",
   "execution_count": 39,
   "metadata": {},
   "outputs": [
    {
     "data": {
      "image/png": "[encoded data removed]",
      "text/plain": [
       "<Figure size 432x288 with 4 Axes>"
      ]
     },
     "metadata": {
      "needs_background": "light"
     },
     "output_type": "display_data"
    }
   ],
   "source": [
    "# Checking our assumptions\n",
    "output.plot_diagnostics();"
   ]
  },
  {
   "cell_type": "code",
   "execution_count": 40,
   "metadata": {},
   "outputs": [
    {
     "data": {
      "text/plain": [
       "364"
      ]
     },
     "execution_count": 40,
     "metadata": {},
     "output_type": "execute_result"
    }
   ],
   "source": [
    "# Setting up the time rante we want to generate forecats for\n",
    "start = pd.to_datetime('2018-11-25')\n",
    "end = pd.to_datetime('2019-11-24')\n",
    "datediff = (end - start).days\n",
    "datediff"
   ]
  },
  {
   "cell_type": "code",
   "execution_count": 41,
   "metadata": {},
   "outputs": [],
   "source": [
    "# Generate predictions\n",
    "pred = output.get_prediction(start=start,end=end, dynamic=True)\n",
    "pred_conf = pred.conf_int()"
   ]
  },
  {
   "cell_type": "code",
   "execution_count": 42,
   "metadata": {},
   "outputs": [
    {
     "data": {
      "text/html": [
       "<div>\n",
       "<style scoped>\n",
       "    .dataframe tbody tr th:only-of-type {\n",
       "        vertical-align: middle;\n",
       "    }\n",
       "\n",
       "    .dataframe tbody tr th {\n",
       "        vertical-align: top;\n",
       "    }\n",
       "\n",
       "    .dataframe thead th {\n",
       "        text-align: right;\n",
       "    }\n",
       "</style>\n",
       "<table border=\"1\" class=\"dataframe\">\n",
       "  <thead>\n",
       "    <tr style=\"text-align: right;\">\n",
       "      <th></th>\n",
       "      <th>lower close</th>\n",
       "      <th>upper close</th>\n",
       "    </tr>\n",
       "  </thead>\n",
       "  <tbody>\n",
       "    <tr>\n",
       "      <td>2018-11-25</td>\n",
       "      <td>5.490603</td>\n",
       "      <td>5.533308</td>\n",
       "    </tr>\n",
       "    <tr>\n",
       "      <td>2018-12-02</td>\n",
       "      <td>5.480212</td>\n",
       "      <td>5.546754</td>\n",
       "    </tr>\n",
       "    <tr>\n",
       "      <td>2018-12-09</td>\n",
       "      <td>5.473082</td>\n",
       "      <td>5.556939</td>\n",
       "    </tr>\n",
       "    <tr>\n",
       "      <td>2018-12-16</td>\n",
       "      <td>5.467457</td>\n",
       "      <td>5.565620</td>\n",
       "    </tr>\n",
       "    <tr>\n",
       "      <td>2018-12-23</td>\n",
       "      <td>5.462748</td>\n",
       "      <td>5.573383</td>\n",
       "    </tr>\n",
       "  </tbody>\n",
       "</table>\n",
       "</div>"
      ],
      "text/plain": [
       "            lower close  upper close\n",
       "2018-11-25     5.490603     5.533308\n",
       "2018-12-02     5.480212     5.546754\n",
       "2018-12-09     5.473082     5.556939\n",
       "2018-12-16     5.467457     5.565620\n",
       "2018-12-23     5.462748     5.573383"
      ]
     },
     "execution_count": 42,
     "metadata": {},
     "output_type": "execute_result"
    }
   ],
   "source": [
    "pred_conf[:5]"
   ]
  },
  {
   "cell_type": "code",
   "execution_count": 43,
   "metadata": {
    "scrolled": true
   },
   "outputs": [
    {
     "data": {
      "image/png": "[encoded data removed]",
      "text/plain": [
       "<Figure size 432x288 with 1 Axes>"
      ]
     },
     "metadata": {
      "needs_background": "light"
     },
     "output_type": "display_data"
    }
   ],
   "source": [
    "# Visualise predictions\n",
    "pred.predicted_mean.plot(ax=ts_log[1800:].plot(), alpha=.9)\n",
    "\n",
    "#Plot the range for confidence intervals\n",
    "plt.fill_between(pred_conf.index,\n",
    "                pred_conf.iloc[:, 0],\n",
    "                pred_conf.iloc[:, 1], color='y', alpha=.5);"
   ]
  },
  {
   "cell_type": "code",
   "execution_count": null,
   "metadata": {},
   "outputs": [],
   "source": []
  },
  {
   "cell_type": "markdown",
   "metadata": {},
   "source": [
    "# Loop through SARIMAX parameters (just to consider other options)"
   ]
  },
  {
   "cell_type": "code",
   "execution_count": null,
   "metadata": {},
   "outputs": [],
   "source": [
    "from statsmodels.tsa.statespace.sarimax import SARIMAX\n",
    "from IPython.display import display\n",
    "value_lst = [0,1,2]\n",
    "trend_lst = ['n','c','t','ct']\n",
    "best_aic = 9999999999\n",
    "for i in value_lst:\n",
    "    for j in value_lst:\n",
    "        for k in value_lst:\n",
    "            for m in trend_lst:\n",
    "                model = SARIMAX(ts_log[:train_stop],order=(i, j, k)#,seasonal_order=(1, 1, 1, 12)\n",
    "                                ,trend=m)\n",
    "                try:\n",
    "                    output = model.fit()\n",
    "                except:\n",
    "                    pass\n",
    "                print(i,j,k,m,output.aic)\n",
    "                if output.aic < best_aic:\n",
    "                    best_aic = output.aic\n",
    "                    pred = output.get_prediction(start=start,end=end, dynamic=True)\n",
    "                    pred_conf = pred.conf_int()\n",
    "\n",
    "                    pred.predicted_mean.plot(ax=ts_log[1800:].plot(), alpha=.9)\n",
    "\n",
    "                    #Plot the range for confidence intervals\n",
    "                    plt.fill_between(pred_conf.index,\n",
    "                                    pred_conf.iloc[:, 0],\n",
    "                                    pred_conf.iloc[:, 1], color='y', alpha=.5);\n",
    "                    plt.ylim(5,6)\n",
    "\n",
    "                    plt.show()\n",
    "                    display(output.summary())"
   ]
  },
  {
   "cell_type": "markdown",
   "metadata": {},
   "source": [
    "# Making our forecast more interesting to stakeholders"
   ]
  },
  {
   "cell_type": "code",
   "execution_count": 45,
   "metadata": {
    "scrolled": true
   },
   "outputs": [
    {
     "name": "stderr",
     "output_type": "stream",
     "text": [
      "//anaconda3/envs/learn-env/lib/python3.6/site-packages/statsmodels/base/model.py:512: ConvergenceWarning: Maximum Likelihood optimization failed to converge. Check mle_retvals\n",
      "  \"Check mle_retvals\", ConvergenceWarning)\n"
     ]
    },
    {
     "data": {
      "text/html": [
       "<table class=\"simpletable\">\n",
       "<caption>Statespace Model Results</caption>\n",
       "<tr>\n",
       "  <th>Dep. Variable:</th>                <td>close</td>             <th>  No. Observations:  </th>    <td>2019</td>   \n",
       "</tr>\n",
       "<tr>\n",
       "  <th>Model:</th>           <td>SARIMAX(0, 1, 1)x(0, 1, 0, 53)</td> <th>  Log Likelihood     </th>  <td>5372.325</td> \n",
       "</tr>\n",
       "<tr>\n",
       "  <th>Date:</th>                   <td>Fri, 10 Jan 2020</td>        <th>  AIC                </th> <td>-10738.651</td>\n",
       "</tr>\n",
       "<tr>\n",
       "  <th>Time:</th>                       <td>12:38:30</td>            <th>  BIC                </th> <td>-10721.904</td>\n",
       "</tr>\n",
       "<tr>\n",
       "  <th>Sample:</th>                    <td>03-23-1980</td>           <th>  HQIC               </th> <td>-10732.496</td>\n",
       "</tr>\n",
       "<tr>\n",
       "  <th></th>                          <td>- 11-25-2018</td>          <th>                     </th>      <td> </td>    \n",
       "</tr>\n",
       "<tr>\n",
       "  <th>Covariance Type:</th>               <td>opg</td>              <th>                     </th>      <td> </td>    \n",
       "</tr>\n",
       "</table>\n",
       "<table class=\"simpletable\">\n",
       "<tr>\n",
       "     <td></td>       <th>coef</th>     <th>std err</th>      <th>z</th>      <th>P>|z|</th>  <th>[0.025</th>    <th>0.975]</th>  \n",
       "</tr>\n",
       "<tr>\n",
       "  <th>drift</th>  <td>-1.058e-08</td> <td> 3.91e-07</td> <td>   -0.027</td> <td> 0.978</td> <td>-7.77e-07</td> <td> 7.56e-07</td>\n",
       "</tr>\n",
       "<tr>\n",
       "  <th>ma.L1</th>  <td>    0.1865</td> <td>    0.016</td> <td>   11.392</td> <td> 0.000</td> <td>    0.154</td> <td>    0.219</td>\n",
       "</tr>\n",
       "<tr>\n",
       "  <th>sigma2</th> <td>    0.0002</td> <td> 5.14e-06</td> <td>   47.775</td> <td> 0.000</td> <td>    0.000</td> <td>    0.000</td>\n",
       "</tr>\n",
       "</table>\n",
       "<table class=\"simpletable\">\n",
       "<tr>\n",
       "  <th>Ljung-Box (Q):</th>          <td>93.13</td> <th>  Jarque-Bera (JB):  </th> <td>584.47</td>\n",
       "</tr>\n",
       "<tr>\n",
       "  <th>Prob(Q):</th>                <td>0.00</td>  <th>  Prob(JB):          </th>  <td>0.00</td> \n",
       "</tr>\n",
       "<tr>\n",
       "  <th>Heteroskedasticity (H):</th> <td>0.73</td>  <th>  Skew:              </th>  <td>-0.09</td>\n",
       "</tr>\n",
       "<tr>\n",
       "  <th>Prob(H) (two-sided):</th>    <td>0.00</td>  <th>  Kurtosis:          </th>  <td>5.67</td> \n",
       "</tr>\n",
       "</table><br/><br/>Warnings:<br/>[1] Covariance matrix calculated using the outer product of gradients (complex-step)."
      ],
      "text/plain": [
       "<class 'statsmodels.iolib.summary.Summary'>\n",
       "\"\"\"\n",
       "                                 Statespace Model Results                                 \n",
       "==========================================================================================\n",
       "Dep. Variable:                              close   No. Observations:                 2019\n",
       "Model:             SARIMAX(0, 1, 1)x(0, 1, 0, 53)   Log Likelihood                5372.325\n",
       "Date:                            Fri, 10 Jan 2020   AIC                         -10738.651\n",
       "Time:                                    12:38:30   BIC                         -10721.904\n",
       "Sample:                                03-23-1980   HQIC                        -10732.496\n",
       "                                     - 11-25-2018                                         \n",
       "Covariance Type:                              opg                                         \n",
       "==============================================================================\n",
       "                 coef    std err          z      P>|z|      [0.025      0.975]\n",
       "------------------------------------------------------------------------------\n",
       "drift      -1.058e-08   3.91e-07     -0.027      0.978   -7.77e-07    7.56e-07\n",
       "ma.L1          0.1865      0.016     11.392      0.000       0.154       0.219\n",
       "sigma2         0.0002   5.14e-06     47.775      0.000       0.000       0.000\n",
       "===================================================================================\n",
       "Ljung-Box (Q):                       93.13   Jarque-Bera (JB):               584.47\n",
       "Prob(Q):                              0.00   Prob(JB):                         0.00\n",
       "Heteroskedasticity (H):               0.73   Skew:                            -0.09\n",
       "Prob(H) (two-sided):                  0.00   Kurtosis:                         5.67\n",
       "===================================================================================\n",
       "\n",
       "Warnings:\n",
       "[1] Covariance matrix calculated using the outer product of gradients (complex-step).\n",
       "\"\"\""
      ]
     },
     "execution_count": 45,
     "metadata": {},
     "output_type": "execute_result"
    }
   ],
   "source": [
    "# Adding seasonality for stakeholders\n",
    "from statsmodels.tsa.statespace.sarimax import SARIMAX\n",
    "model = SARIMAX(ts_log[:train_stop],order=(0, 1, 1),seasonal_order=(0, 1, 0, 53)\n",
    "                ,trend='t',\n",
    "                enforce_stationarity=False,enforce_invertibility=False)\n",
    "output = model.fit()\n",
    "output.summary()"
   ]
  },
  {
   "cell_type": "code",
   "execution_count": 46,
   "metadata": {},
   "outputs": [
    {
     "data": {
      "image/png": "[encoded data removed]",
      "text/plain": [
       "<Figure size 432x288 with 4 Axes>"
      ]
     },
     "metadata": {
      "needs_background": "light"
     },
     "output_type": "display_data"
    }
   ],
   "source": [
    "output.plot_diagnostics();"
   ]
  },
  {
   "cell_type": "code",
   "execution_count": 47,
   "metadata": {},
   "outputs": [],
   "source": [
    "pred = output.get_prediction(start=start,end=end, dynamic=True)\n",
    "pred_conf = pred.conf_int()"
   ]
  },
  {
   "cell_type": "code",
   "execution_count": 48,
   "metadata": {},
   "outputs": [
    {
     "data": {
      "image/png": "[encoded data removed]",
      "text/plain": [
       "<Figure size 432x288 with 1 Axes>"
      ]
     },
     "metadata": {
      "needs_background": "light"
     },
     "output_type": "display_data"
    }
   ],
   "source": [
    "# Plot the prediction\n",
    "pred.predicted_mean.plot(ax=ts_log[1800:].plot(), alpha=.9)\n",
    "\n",
    "# Plot the range for confidence intervals\n",
    "plt.fill_between(pred_conf.index,\n",
    "                pred_conf.iloc[:, 0],\n",
    "                pred_conf.iloc[:, 1], color='y', alpha=.5);"
   ]
  },
  {
   "cell_type": "code",
   "execution_count": null,
   "metadata": {},
   "outputs": [],
   "source": []
  }
 ],
 "metadata": {
  "kernelspec": {
   "display_name": "Python [conda env:learn-env] *",
   "language": "python",
   "name": "conda-env-learn-env-py"
  },
  "language_info": {
   "codemirror_mode": {
    "name": "ipython",
    "version": 3
   },
   "file_extension": ".py",
   "mimetype": "text/x-python",
   "name": "python",
   "nbconvert_exporter": "python",
   "pygments_lexer": "ipython3",
   "version": "3.6.9"
  }
 },
 "nbformat": 4,
 "nbformat_minor": 2
}
