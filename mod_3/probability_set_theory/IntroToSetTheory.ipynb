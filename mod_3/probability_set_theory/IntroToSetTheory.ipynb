{
 "cells": [
  {
   "cell_type": "markdown",
   "metadata": {},
   "source": [
    " # Set Theory and Probability \n",
    "\n",
    "This lesson will introduce data science students to fundamental concepts of set theory and probaility, provide hands on applications of how these theoretical ideas can be put into practice, and feel comfortable using terms from set theory and probability to talk about events. \n",
    "\n",
    "## Learning Goals \n",
    "\n",
    "After this lesson you should be able to ... \n",
    "\n",
    "* [ ] Explain how the study of probability is fundamental to research questions in data science\n",
    "* [ ] Define sets, subsets, universal subset, union, intersection as they are related to set theory\n",
    "* [ ] Explain how sample space and event space form the basis of the study of probability\n",
    "* [ ] Explain the three axioms of probability \n",
    "* [ ] Define the difference between permutations and combintations\n",
    "* [ ] Be able to give examples of independent and dependant events\n",
    "\n",
    "## Probability \n",
    "\n",
    "One of the most important jobs of a data scientist (statistician) is to attempt to quantify uncertainty.\n",
    "This is not an easy task and there are a lot of factors at play when we try to do this. \n",
    "In order to give data scientists a common language to talk about such a task we employ mathematical language to formalize our assumptions and ensure we know what each other is talking about when trying to solve problems concerning quantifying uncertainty.\n",
    "\n",
    "This means that terms such as...\n",
    "\n",
    "* Probability\n",
    "* Odds\n",
    "* Likelihood\n",
    "\n",
    "all take on very specific meanings and you will be encouraged to make sure that you are using the correct terms when describing a concept.\n",
    "\n",
    "Before jumping into the maths, let's start with a small discussion question?\n",
    "\n",
    "> What does it mean to say that there is a 45% chance of it raining later today?\n",
    "> Turn to your partner try to tackle this question.\n",
    "> In your discussion, try to cover the following points:\n",
    "> What does the word \"chance\" mean in this context?\n",
    "> Where does the number 45 come from here? What does it reflect?\n",
    "> What is the 45% a reflection of? The day? Nov 11ths? The weather? Our experience of the weather?\n",
    "> How does this assumption about there being a 45% chance of rain \"today\" compare and \n",
    "> contrast to when we say that a six sided die has a ~33% chance of landing on an even number?\n",
    "> How do discussions about a week of rain compare to a few rolls of a die?\n",
    "\n",
    "Post - Discussion Points\n",
    "\n",
    "* Frequentism \n",
    "* Bayes \n",
    "* Likelihoood\n",
    "* Discrete vs Continuous \n",
    "* Independent vs Dependant Events\n",
    "\n",
    "\n",
    "## Sets\n",
    "\n",
    "[Set Theory](https://en.wikipedia.org/wiki/Set_theory) is a branch of maths dealing with collections of objects.\n",
    "The labs you worked on this morning gave you an overview of these concepts.\n",
    "Here we will review those concepts and discuss how they relate to the world of data science. \n",
    "\n"
   ]
  },
  {
   "cell_type": "markdown",
   "metadata": {},
   "source": [
    "## Set Theory\n",
    "In probability theory, a set is denoted as a well-defined collection of objects.\n",
    "Mathematically, you can define a set by $S$. If an element $x$ belongs to a set $S$, then you'd write $x \\in S$. On the other hand, if $x$ does not belong to a set $S$, then you'd write $x\\notin S$.\n",
    "\n",
    "__2.1 Subsets__ <br>\n",
    "Set $T$ is a subset of set $S$ if every element in set $T$ is also in set $S$. The mathematical notation for a subset is $T \\subset S$.\n",
    "\n",
    "__2.2 Set Operations__ <br>\n",
    "\n",
    "    - Union of Two Sets: The union of 2 sets S and T is the set of elements of either S or T, or in both.\n",
    "    \n",
    "    - The intersection of two sets S and T is the set that contains all elements of S that also belong to T.\n",
    "    \n",
    "    \n",
    "We are trying to create rooming arrangements based on staff interest for a staff trip. <br>\n",
    "Who should room with whom based on interests?\n",
    "\n",
    "This is another way to look at sets.<br>\n",
    "And we can still use the math!\n",
    "\n"
   ]
  },
  {
   "cell_type": "code",
   "execution_count": 1,
   "metadata": {},
   "outputs": [],
   "source": [
    "Robin = set([\"art\", \"traveling\", \"wine\", \"doodling\", \"tech\", \"gadgets\"])\n",
    "Rob = set([\"rock-climbing\", \"traveling\", \"dad jokes\", \"ice cream\"])\n",
    "Alison = set([\"wine\", \"traveling\", \"schitts creek\", \"dogs\"])\n",
    "Su = set([\"schitts creek\", \"dogs\", \"tarot card reading\", \"croquet\", \"taxonomy\"])\n",
    "Molly = set([\"wine\", \"ice cream\", \"dogs\", \"zookeeping\", \"traveling\"])\n"
   ]
  },
  {
   "cell_type": "code",
   "execution_count": 2,
   "metadata": {},
   "outputs": [
    {
     "data": {
      "text/plain": [
       "{'traveling', 'wine'}"
      ]
     },
     "execution_count": 2,
     "metadata": {},
     "output_type": "execute_result"
    }
   ],
   "source": [
    "Robin.intersection(Alison)"
   ]
  },
  {
   "cell_type": "code",
   "execution_count": 3,
   "metadata": {},
   "outputs": [
    {
     "data": {
      "text/plain": [
       "{'traveling'}"
      ]
     },
     "execution_count": 3,
     "metadata": {},
     "output_type": "execute_result"
    }
   ],
   "source": [
    "Rob.intersection(Alison)"
   ]
  },
  {
   "cell_type": "code",
   "execution_count": 4,
   "metadata": {},
   "outputs": [
    {
     "data": {
      "text/plain": [
       "{'dogs', 'schitts creek'}"
      ]
     },
     "execution_count": 4,
     "metadata": {},
     "output_type": "execute_result"
    }
   ],
   "source": [
    "Alison.intersection(Su)"
   ]
  },
  {
   "cell_type": "code",
   "execution_count": 5,
   "metadata": {},
   "outputs": [
    {
     "data": {
      "text/plain": [
       "{'dogs', 'schitts creek'}"
      ]
     },
     "execution_count": 5,
     "metadata": {},
     "output_type": "execute_result"
    }
   ],
   "source": [
    "Alison.intersection(Su)"
   ]
  },
  {
   "cell_type": "code",
   "execution_count": 6,
   "metadata": {},
   "outputs": [
    {
     "data": {
      "text/plain": [
       "{'dogs', 'schitts creek'}"
      ]
     },
     "execution_count": 6,
     "metadata": {},
     "output_type": "execute_result"
    }
   ],
   "source": [
    "Alison.intersection(Su)"
   ]
  },
  {
   "cell_type": "code",
   "execution_count": 7,
   "metadata": {},
   "outputs": [
    {
     "data": {
      "text/plain": [
       "{'traveling'}"
      ]
     },
     "execution_count": 7,
     "metadata": {},
     "output_type": "execute_result"
    }
   ],
   "source": [
    "Molly.intersection(Rob).intersection(Robin)"
   ]
  },
  {
   "cell_type": "code",
   "execution_count": 8,
   "metadata": {},
   "outputs": [
    {
     "data": {
      "text/plain": [
       "{'dogs', 'schitts creek'}"
      ]
     },
     "execution_count": 8,
     "metadata": {},
     "output_type": "execute_result"
    }
   ],
   "source": [
    "Alison.intersection(Su)"
   ]
  },
  {
   "cell_type": "markdown",
   "metadata": {},
   "source": [
    "**Task**:\n",
    "\n",
    "- In groups of 2-3, draw the Venn diagram of interests of each person and how they overlap. \n",
    "- Then try the set notation learned in the learn.co curriculum to find the overlap answers with python."
   ]
  },
  {
   "cell_type": "markdown",
   "metadata": {},
   "source": [
    "## Probability \n",
    "\n",
    "As discussed in the curricula, the important jump from Set Theory to probability comes in thinking about the relationship between Sample Space and Event Space.\n",
    "\n",
    "In Set Theory, we can designate our sample space with the Greek letter $\\Omega$ (Omega).\n",
    "If sample space was meant to represent a single die, that space would be $S = <1,2,3,4,5,6>$.\n",
    "\n",
    "This sample space contrasts with the idea of Event Space.\n",
    "Event Space will be a subset of Sample Space ( $E \\subset S $ ).\n",
    "\n",
    "In our dice example, what would the event space of even numbers look like?\n",
    "What about rolling a one? \n",
    "What about rolling a one or a six?\n",
    "\n",
    "> The idea here is if we did this over and over again, we would arrive on a fixed number represented by this number.\n",
    "\n",
    "This also brings us discussing the Axioms of Probability (also in Labs).\n",
    "\n",
    "1. Probabilty must always be positive\n",
    "2. All probabilities sum to 1.\n",
    "3. Independent events in sample space are addative.\n",
    "\n",
    "> Discuss how these three relate to our die example.\n",
    "\n",
    "## Conditional Probability \n",
    "\n",
    "Up until this point, we have assumed that events in probility space are independent.\n",
    "Not all events are independent.\n",
    "\n",
    "The CLASSIC example that you will run into in stats textbooks as you continue your education is the idea of balls in an urn.\n",
    "\n",
    "Imagine you have an urn with 10 balls in it.\n",
    "Seven of the balls are red.\n",
    "Three of the balls are green.\n",
    "\n",
    "Given what we know this far...\n",
    "\n",
    "* What is the sample space of this example?\n",
    "* What is the probability that we pull out a red ball with all ten balls in?\n",
    "* What is the probability that we pull out a green ball with all ten balls in it?\n",
    "* What is the probability after pulling out a red ball and keeping it out that we will pull out a green ball?\n",
    "\n",
    "We will explore this example more in the Bayes lecture!!!\n",
    "\n",
    "# x\n",
    "\n",
    "### Dependent Events \n",
    "\n",
    "**Events $A$ and $B$ are dependent when the occurrence of $A$ somehow has an effect on whether $B$ will occur (or not).**\n",
    "\n",
    "Now things start getting a bit more interesting. \n",
    "\n",
    "Let's look at an example. Let's say event $A$ is taking an orange or purple marble out of a jar. The jar contains 3 orange and 2 purple marbles. \n",
    "\n",
    "<img src=\"images/Image_69_Marb.png\" width=\"300\">\n",
    "\n",
    "The probability of getting a purple marble is $\\dfrac{2}{5}$ and getting an orange marble is $\\dfrac{3}{5}$.\n",
    "\n",
    "<img src=\"images/Image_70_Cond3.png\" width=\"300\">\n",
    "\n",
    "At that point, one marble is taken out and we now take another marble from the jar (event $B$).\n",
    "\n",
    "Here you can see that our second event is dependent on the outcome of the first draw.\n",
    "\n",
    "- If we drew an orange marble first, the probability of getting a purple marble for event B is $\\dfrac{2}{4}$. \n",
    "- If we saw a purple marble first, however, the probability of seeing a purple in the second trial is $\\dfrac{1}{4}$. \n",
    "\n",
    "In simple terms, the probability of seeing an event $B$ in the second trial depends on the outcome $A$ of the first trial. We say that $P(B)$ is **conditional** on $P(A)$.\n",
    "\n",
    "A **tree diagram** can be used to explore all possible events.\n",
    "\n",
    "<img src=\"images/Image_71_TreeDiag.png\" width = 500>\n",
    "\n",
    "## Conditional Probability \n",
    "\n",
    "**Conditional probability emerges when the outcome a trial may influence the results of the upcoming trials.**\n",
    "\n",
    "While calculating the probability of the second event (event $B$) given that the primary event (event $A$) has just happened, we say that the probability of event $B$ relies on the occurrence of event $A$.\n",
    "\n",
    "Here are some more examples: \n",
    "\n",
    "* Drawing a 2nd Ace from a deck of cards given that the first card you drew was an Ace.\n",
    "* Finding the probability of liking \"The Matrix\" given that you know this person likes science fiction.\n",
    "\n",
    "\n",
    "Let's say that $P(A)$ is the event we are interested in, and this event depends on a certain event $B$ that has happened. \n",
    "\n",
    "The conditional probability (Probability of $A$ **given** $B$) can be written as:\n",
    "$$ P (A \\mid B) = \\dfrac{P(A \\cap B)}{P(B)}$$\n",
    "\n",
    "\n",
    "\n",
    "$P(A|B)$, is the probability A **given** that $B$ has just happened. \n",
    "\n",
    "<img src=\"images/Image_72_Cond4.png\" width=\"300\">\n",
    "\n",
    "\n",
    "Understanding this formula may be easier if you look at two simple Venn Diagrams and use the multiplication rule. Here's how to derive this formula:\n",
    "\n",
    "Step 1: Write out the multiplication rule:\n",
    "* $P(A \\cap B)= P(B)*P(A\\mid B)$\n",
    "\n",
    "Step 2: Divide both sides of the equation by P(B):\n",
    "* $\\dfrac{P(A \\cap B)}{ P(B)} = \\dfrac{P(B)*P(A\\mid B)}{P(B)}$\n",
    "\n",
    "Step 3: Cancel P(B) on the right side of the equation:\n",
    "* $\\dfrac{P(A \\cap B)}{P(B)} = P(A \\mid B)$\n",
    "\n",
    "Step 4: This is of course equal to:\n",
    "* $ P(A \\mid B)=\\dfrac{P(A \\cap B)}{P(B)} $\n",
    "\n",
    "And this is our conditional probability formula. \n",
    "\n",
    "There are a few variations and theorems that are related to and/or results of this conditional probability formula. The most important ones are: the **product rule**, the **chain rule** and **Bayes Theorem**\n",
    "\n",
    "\n",
    "\n",
    "### Theorem 1 - Product Rule\n",
    "\n",
    "The **product rule** was used to derive the conditional probability formula above, but is often used in situations where the conditional probability is easy to compute, but the probability of intersections of events isn't. \n",
    "\n",
    "The intersection of events $A$ and $B$ can be given by\n",
    "\n",
    "\\begin{align}\n",
    "    P(A \\cap B) = P(B) P(A \\mid B) = P(A) P(B \\mid A)\n",
    "\\end{align}\n",
    "\n",
    "Remember that if $A$ and $B$ are independent, then conditioning on $B$ means nothing (and vice-versa) so $P(A|B) = P(A)$, and $P(A \\cap B) = P(A) P(B)$.\n",
    "\n",
    "### Theorem 2 - Chain Rule\n",
    "\n",
    "The **chain rule** (also called the **general product rule**) permits the calculation of any member of the joint distribution of a set of random variables using only conditional probabilities. \n",
    "\n",
    "Recall the product rule: \n",
    "\n",
    "$P(A \\cap B) = P(A \\mid B) P(B)$\n",
    "\n",
    "When you extend this for three variables:\n",
    "\n",
    "$P(A\\cap B \\cap C) = P(A\\cap( B \\cap C)) = P(A\\mid B \\cap C) P(B \\cap C) = P(A \\mid B \\cap C) P(B \\mid C) P(C)$\n",
    "\n",
    "And you can keep extending this to $n$ variables:\n",
    "\n",
    "$$P(A_1 \\cap A_2 \\cap \\ldots \\cap A_n) = P(A_1 \\mid A_2 \\cap \\ldots\\cap A_n) P(A_2 \\mid A_3  \\cap \\ldots \\cap \\ A_n) P(A_{n-1}|A_n) P(A_n)$$\n",
    "\n",
    "This idea is known as the **chain rule**.\n",
    "\n",
    "If on the other hand you have disjoint events $C_1, C_2,...,C_m$ such that $C_1\\cup C_2\\cup ··· \\cup  C_m = \\Omega$, the probability of any event can be decomposed as:\n",
    "\n",
    "\\begin{align}\n",
    "P(A) = P(A \\mid C_1)P(C_1) + P(A \\mid C_2)P(C_2) + \\ldots + P(A \\mid C_m)P(C_m)\n",
    "\\end{align}\n",
    "\n",
    "### Theorem 3 - Bayes Theorem\n",
    "\n",
    "The **Bayes theorem**, which is the outcome of this section. Below is the formula that we will dig deeper into in upcoming lessons.\n",
    "\n",
    "\\begin{align}\n",
    "    P(A|B) = \\frac{P(B|A)P(A)}{P(B)} \\text{-        this follows from Theorem 1}\n",
    "\\end{align}\n"
   ]
  },
  {
   "cell_type": "markdown",
   "metadata": {},
   "source": [
    "## Permutations and Combinations\n",
    "\n",
    "What's the probability that a staff person likes wine?\n",
    "\n",
    "That's a very specific probability example.\n",
    "\n",
    "But there are other applications and terminology that are important for probability. \n",
    "\n",
    "\n",
    "In this section, we will introduce you to the foundation of independent probability theory. Later on in the course, you will be introduced to concepts such as conditional probability and probability of dependent events.\n",
    "\n",
    "__Terminology Alert__ \n",
    "- Random Variable\n",
    "    - A random variable is a variable whose outcome is the result of a random phenomenon which can take on different values\n",
    "    - A random variable can either be discrete or continuous\n",
    "        - __Discrete__ : the variable takes on integer values\n",
    "        - __Continous__ : can take on any values\n",
    "        \n",
    "####  Probability of A and B \n",
    "<center>$P(A and B) = P(A) * P(B)$</center>\n",
    "\n",
    "What's the probability that a staff person likes wine *and* likes dogs?\n",
    "\n",
    "#### Probabilities of A or B\n",
    "<center>$P(A  or  B) = P(A) + P(B) - P(A  and  B)$</center>\n",
    "\n",
    "What's the probabilty that someone like ice cream *or* traveling?\n",
    "\n",
    "What happens when you have multiple events? \n",
    "\n",
    "What happens when you have multiple events? \n",
    "\n",
    "$$ P(A or B or C) = P(A) + P(B) + P(C) - P(A and B) - P(A and C) - P(B and C) + P(A&B&C) $$\n",
    "\n",
    "## Permutations & Combinations\n",
    "Help us define the full *set* of options related to a probability\n",
    "\n",
    "**Permutation**\n",
    "    - ordering matter\n",
    "    - how many different arrangement can you get out of a number of elements?\n",
    "    - possible number of arrangement $r$ out of a total of $n$ elements is given by:  $n! / (n – r)!$ \n",
    "    \n",
    "```\n",
    "from itertools import permutations \n",
    "l = list(permutations(range(1, 4))) \n",
    "print l\n",
    "```\n"
   ]
  },
  {
   "cell_type": "code",
   "execution_count": 22,
   "metadata": {},
   "outputs": [
    {
     "name": "stdout",
     "output_type": "stream",
     "text": [
      "[(1, 2, 3), (1, 3, 2), (2, 1, 3), (2, 3, 1), (3, 1, 2), (3, 2, 1)]\n"
     ]
    }
   ],
   "source": [
    "from itertools import permutations \n",
    "l = list(permutations(range(1, 4))) \n",
    "print(l)"
   ]
  },
  {
   "cell_type": "markdown",
   "metadata": {},
   "source": [
    "#### Scenario:\n",
    "\n",
    "You are trying to break the code - to hack into the mainframe, and stop the KGB from launching US missiles remotely.\n",
    "\n",
    "You know the password is some 5 letter anagram of a subset of the word \"pochemuchka\"\n",
    "\n",
    "How many words potential passwords are there? ie, how large is the **set** of password options?"
   ]
  },
  {
   "cell_type": "code",
   "execution_count": 23,
   "metadata": {},
   "outputs": [],
   "source": [
    "from itertools import permutations \n",
    "l = list(permutations(\"pochemuchka\", 5)) "
   ]
  },
  {
   "cell_type": "code",
   "execution_count": 24,
   "metadata": {},
   "outputs": [
    {
     "data": {
      "text/plain": [
       "55440"
      ]
     },
     "execution_count": 24,
     "metadata": {},
     "output_type": "execute_result"
    }
   ],
   "source": [
    "len(l)"
   ]
  },
  {
   "cell_type": "code",
   "execution_count": 25,
   "metadata": {},
   "outputs": [
    {
     "data": {
      "text/plain": [
       "22050"
      ]
     },
     "execution_count": 25,
     "metadata": {},
     "output_type": "execute_result"
    }
   ],
   "source": [
    "len(set(l))"
   ]
  },
  {
   "cell_type": "markdown",
   "metadata": {},
   "source": [
    "What's the probability that the password starts with p?"
   ]
  },
  {
   "cell_type": "code",
   "execution_count": null,
   "metadata": {},
   "outputs": [],
   "source": []
  },
  {
   "cell_type": "markdown",
   "metadata": {},
   "source": [
    "**Combination:**\n",
    "    - ordering does not matter\n",
    "    - how many different selections can you get out of number of elements?\n",
    "    - possible number of selections $r$ out of a total of $n$ elements given by :$n! /((r !) (n – r)!)$\n",
    "    - Example"
   ]
  },
  {
   "cell_type": "markdown",
   "metadata": {},
   "source": [
    "#### Scenario A\n",
    "- Combinatorics in specific scenario\n",
    "    - What is the probability of getting exactly 3 heads out of 5 fair coins? \n",
    "    - What is the probability of getting at least 3 heads out of 5 tosses?\n",
    "    \n"
   ]
  },
  {
   "cell_type": "markdown",
   "metadata": {},
   "source": []
  },
  {
   "cell_type": "code",
   "execution_count": null,
   "metadata": {},
   "outputs": [],
   "source": []
  },
  {
   "cell_type": "code",
   "execution_count": null,
   "metadata": {},
   "outputs": [],
   "source": []
  },
  {
   "cell_type": "code",
   "execution_count": null,
   "metadata": {},
   "outputs": [],
   "source": []
  },
  {
   "cell_type": "code",
   "execution_count": null,
   "metadata": {},
   "outputs": [],
   "source": []
  }
 ],
 "metadata": {
  "kernelspec": {
   "display_name": "Python 3",
   "language": "python",
   "name": "python3"
  },
  "language_info": {
   "codemirror_mode": {
    "name": "ipython",
    "version": 3
   },
   "file_extension": ".py",
   "mimetype": "text/x-python",
   "name": "python",
   "nbconvert_exporter": "python",
   "pygments_lexer": "ipython3",
   "version": "3.7.3"
  }
 },
 "nbformat": 4,
 "nbformat_minor": 4
}
